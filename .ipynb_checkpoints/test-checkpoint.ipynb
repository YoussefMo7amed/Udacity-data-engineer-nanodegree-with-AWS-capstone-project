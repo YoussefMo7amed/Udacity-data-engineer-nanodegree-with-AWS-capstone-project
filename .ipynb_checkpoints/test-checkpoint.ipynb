{
 "cells": [
  {
   "cell_type": "markdown",
   "metadata": {
    "editable": true
   },
   "source": [
    "# 4.2 Data Quality Checks\n",
    "\n",
    "Data quality checks includes\n",
    "\n",
    "1. Data schema of every dimensional table matches data model\n",
    "2. No empty table after running ETL data pipeline\n"
   ]
  },
  {
   "cell_type": "code",
   "execution_count": 1,
   "metadata": {
    "editable": true
   },
   "outputs": [
    {
     "data": {
      "text/plain": [
       "<module 'schema' from '/home/workspace/schema.py'>"
      ]
     },
     "execution_count": 1,
     "metadata": {},
     "output_type": "execute_result"
    }
   ],
   "source": [
    "import os\n",
    "import configparser\n",
    "from pathlib import Path\n",
    "from pyspark.sql import SparkSession\n",
    "from helper import thousands_separator\n",
    "import json\n",
    "import schema\n",
    "import importlib\n",
    "importlib.reload(schema)"
   ]
  },
  {
   "cell_type": "code",
   "execution_count": 2,
   "metadata": {
    "editable": true
   },
   "outputs": [],
   "source": [
    "config = configparser.ConfigParser()\n",
    "config.read(\"configuration.cfg\", encoding=\"utf-8-sig\")\n",
    "\n",
    "os.environ[\"AWS_ACCESS_KEY_ID\"] = config[\"AWS\"][\"AWS_ACCESS_KEY_ID\"]\n",
    "os.environ[\"AWS_SECRET_ACCESS_KEY\"] = config[\"AWS\"][\"AWS_SECRET_ACCESS_KEY\"]\n",
    "\n",
    "SOURCE = config[\"S3\"][\"SOURCE_S3_BUCKET\"]\n",
    "DESTINATION = config[\"S3\"][\"DEST_S3_BUCKET\"]\n"
   ]
  },
  {
   "cell_type": "code",
   "execution_count": 3,
   "metadata": {
    "editable": true
   },
   "outputs": [],
   "source": [
    "# spark = (\n",
    "#     SparkSession.builder.config(\n",
    "#         \"spark.jars.packages\", \"saurfang:spark-sas7bdat:2.0.0-s_2.11\"\n",
    "#     )\n",
    "#     .enableHiveSupport()\n",
    "#     .getOrCreate()\n",
    "# )\n",
    "\n",
    "spark = (\n",
    "    SparkSession.builder.config(\n",
    "        \"spark.jars.packages\", \"org.apache.hadoop:hadoop-aws:2.7.0\"\n",
    "    )\n",
    "    .enableHiveSupport()\n",
    "    .getOrCreate()\n",
    ")\n"
   ]
  },
  {
   "cell_type": "markdown",
   "metadata": {
    "editable": true
   },
   "source": [
    "### 1. Data schema of every dimensional table matches data model\n"
   ]
  },
  {
   "cell_type": "markdown",
   "metadata": {
    "editable": true
   },
   "source": [
    "Please refer to [data_dictionary.ipynb](data_dictionary.ipynb).\n"
   ]
  },
  {
   "cell_type": "markdown",
   "metadata": {
    "editable": true
   },
   "source": [
    "For local usage use\n"
   ]
  },
  {
   "cell_type": "code",
   "execution_count": 4,
   "metadata": {
    "editable": true
   },
   "outputs": [],
   "source": [
    "bucket = Path(\"output_data\")\n"
   ]
  },
  {
   "cell_type": "markdown",
   "metadata": {
    "editable": true
   },
   "source": [
    "For AWS S3\n"
   ]
  },
  {
   "cell_type": "code",
   "execution_count": 5,
   "metadata": {
    "editable": true
   },
   "outputs": [],
   "source": [
    "# bucket = Path(SOURCE)\n"
   ]
  },
  {
   "cell_type": "code",
   "execution_count": 6,
   "metadata": {
    "editable": true
   },
   "outputs": [],
   "source": [
    "tables = []"
   ]
  },
  {
   "cell_type": "code",
   "execution_count": 7,
   "metadata": {
    "editable": true
   },
   "outputs": [
    {
     "name": "stdout",
     "output_type": "stream",
     "text": [
      "Path:output_data/city_code\n",
      "Table: city_code\n",
      "root\n",
      " |-- code: string (nullable = true)\n",
      " |-- city: string (nullable = true)\n",
      "\n",
      "Path:output_data/dim_immigration_airline\n",
      "Table: dim_immigration_airline\n",
      "root\n",
      " |-- cic_id: long (nullable = true)\n",
      " |-- airline: string (nullable = true)\n",
      " |-- admin_num: long (nullable = true)\n",
      " |-- flight_number: string (nullable = true)\n",
      " |-- visa_type: string (nullable = true)\n",
      " |-- immi_airline_id: integer (nullable = true)\n",
      "\n",
      "Path:output_data/dim_demog_statistics\n",
      "Table: dim_demog_statistics\n",
      "root\n",
      " |-- city: string (nullable = true)\n",
      " |-- state: string (nullable = true)\n",
      " |-- median_age: integer (nullable = true)\n",
      " |-- avg_household_size: float (nullable = true)\n",
      " |-- demog_stat_id: integer (nullable = true)\n",
      "\n",
      "Path:output_data/fact_immigration\n",
      "Table: fact_immigration\n",
      "root\n",
      " |-- cic_id: long (nullable = true)\n",
      " |-- year: integer (nullable = true)\n",
      " |-- month: integer (nullable = true)\n",
      " |-- city_code: string (nullable = true)\n",
      " |-- arrive_date: date (nullable = true)\n",
      " |-- departure_date: date (nullable = true)\n",
      " |-- mode: integer (nullable = true)\n",
      " |-- visa: integer (nullable = true)\n",
      " |-- immigration_id: integer (nullable = true)\n",
      " |-- country: string (nullable = true)\n",
      " |-- state_code: string (nullable = true)\n",
      "\n",
      "Path:output_data/dim_demog_population\n",
      "Table: dim_demog_population\n",
      "root\n",
      " |-- city: string (nullable = true)\n",
      " |-- state: string (nullable = true)\n",
      " |-- male_population: integer (nullable = true)\n",
      " |-- female_population: integer (nullable = true)\n",
      " |-- num_veterans: integer (nullable = true)\n",
      " |-- foreign_born: integer (nullable = true)\n",
      " |-- race: string (nullable = true)\n",
      " |-- demog_pop_id: integer (nullable = true)\n",
      "\n",
      "Path:output_data/country_code\n",
      "Table: country_code\n",
      "root\n",
      " |-- code: string (nullable = true)\n",
      " |-- country: string (nullable = true)\n",
      "\n",
      "Path:output_data/state_code\n",
      "Table: state_code\n",
      "root\n",
      " |-- code: string (nullable = true)\n",
      " |-- state: string (nullable = true)\n",
      "\n",
      "Path:output_data/dim_immigration_personal\n",
      "Table: dim_immigration_personal\n",
      "root\n",
      " |-- cic_id: long (nullable = true)\n",
      " |-- citizen_country: integer (nullable = true)\n",
      " |-- residence_country: integer (nullable = true)\n",
      " |-- birth_year: integer (nullable = true)\n",
      " |-- gender: string (nullable = true)\n",
      " |-- immi_personal_id: integer (nullable = true)\n",
      "\n",
      "Path:output_data/dim_temperature\n",
      "Table: dim_temperature\n",
      "root\n",
      " |-- dt: date (nullable = true)\n",
      " |-- avg_temp: float (nullable = true)\n",
      " |-- avg_temp_uncertainty: float (nullable = true)\n",
      " |-- city: string (nullable = true)\n",
      " |-- country: string (nullable = true)\n",
      " |-- year: integer (nullable = true)\n",
      " |-- month: integer (nullable = true)\n",
      "\n"
     ]
    }
   ],
   "source": [
    "for file_directory in bucket.iterdir():\n",
    "    if file_directory.is_dir():\n",
    "        path = str(file_directory)\n",
    "        df = spark.read.parquet(path)\n",
    "        print(f\"Path:{path}\")\n",
    "        table = path.split(\"/\")[-1]\n",
    "        tables.append(table)\n",
    "        print(\"Table: \" + table)\n",
    "        schema = df.printSchema()\n"
   ]
  },
  {
   "cell_type": "code",
   "execution_count": 8,
   "metadata": {
    "editable": true
   },
   "outputs": [
    {
     "data": {
      "text/plain": [
       "['city_code',\n",
       " 'dim_immigration_airline',\n",
       " 'dim_demog_statistics',\n",
       " 'fact_immigration',\n",
       " 'dim_demog_population',\n",
       " 'country_code',\n",
       " 'state_code',\n",
       " 'dim_immigration_personal',\n",
       " 'dim_temperature']"
      ]
     },
     "execution_count": 8,
     "metadata": {},
     "output_type": "execute_result"
    }
   ],
   "source": [
    "tables"
   ]
  },
  {
   "cell_type": "code",
   "execution_count": 9,
   "metadata": {
    "editable": true
   },
   "outputs": [],
   "source": [
    "city_code = spark.read.parquet(f\"{bucket}/city_code\")\n",
    "dim_immigration_airline = spark.read.parquet(f\"{bucket}/dim_immigration_airline\")\n",
    "dim_demog_statistics = spark.read.parquet(f\"{bucket}/dim_demog_statistics\")\n",
    "dim_demog_population = spark.read.parquet(f\"{bucket}/dim_demog_population\")\n",
    "country_code = spark.read.parquet(f\"{bucket}/country_code\")\n",
    "state_code = spark.read.parquet(f\"{bucket}/state_code\")\n",
    "dim_immigration_personal = spark.read.parquet(f\"{bucket}/dim_immigration_personal\")\n",
    "dim_temperature = spark.read.parquet(f\"{bucket}/dim_temperature\")\n",
    "fact_immigration = spark.read.parquet(f\"{bucket}/fact_immigration\")"
   ]
  },
  {
   "cell_type": "code",
   "execution_count": 11,
   "metadata": {
    "editable": true
   },
   "outputs": [
    {
     "ename": "AttributeError",
     "evalue": "'NoneType' object has no attribute 'city_code'",
     "output_type": "error",
     "traceback": [
      "\u001b[0;31m---------------------------------------------------------------------------\u001b[0m",
      "\u001b[0;31mAttributeError\u001b[0m                            Traceback (most recent call last)",
      "\u001b[0;32m<ipython-input-11-b8ce70b2036b>\u001b[0m in \u001b[0;36m<module>\u001b[0;34m()\u001b[0m\n\u001b[0;32m----> 1\u001b[0;31m \u001b[0mschema\u001b[0m\u001b[0;34m.\u001b[0m\u001b[0mcity_code\u001b[0m\u001b[0;34m\u001b[0m\u001b[0m\n\u001b[0m",
      "\u001b[0;31mAttributeError\u001b[0m: 'NoneType' object has no attribute 'city_code'"
     ]
    }
   ],
   "source": []
  },
  {
   "cell_type": "code",
   "execution_count": 10,
   "metadata": {
    "editable": true
   },
   "outputs": [
    {
     "ename": "AttributeError",
     "evalue": "'NoneType' object has no attribute 'city_code'",
     "output_type": "error",
     "traceback": [
      "\u001b[0;31m---------------------------------------------------------------------------\u001b[0m",
      "\u001b[0;31mAttributeError\u001b[0m                            Traceback (most recent call last)",
      "\u001b[0;32m<ipython-input-10-0a1dd1e7bf2d>\u001b[0m in \u001b[0;36m<module>\u001b[0;34m()\u001b[0m\n\u001b[1;32m      1\u001b[0m check_schema = [\n\u001b[0;32m----> 2\u001b[0;31m     \u001b[0mcity_code\u001b[0m \u001b[0;34m==\u001b[0m \u001b[0mschema\u001b[0m\u001b[0;34m.\u001b[0m\u001b[0mcity_code\u001b[0m\u001b[0;34m,\u001b[0m\u001b[0;34m\u001b[0m\u001b[0m\n\u001b[0m\u001b[1;32m      3\u001b[0m     \u001b[0mdim_immigration_airline\u001b[0m \u001b[0;34m==\u001b[0m \u001b[0mschema\u001b[0m\u001b[0;34m.\u001b[0m\u001b[0mdim_immigration_airline\u001b[0m\u001b[0;34m,\u001b[0m\u001b[0;34m\u001b[0m\u001b[0m\n\u001b[1;32m      4\u001b[0m     \u001b[0mdim_demog_statistics\u001b[0m \u001b[0;34m==\u001b[0m \u001b[0mschema\u001b[0m\u001b[0;34m.\u001b[0m\u001b[0mdim_demog_statistics\u001b[0m\u001b[0;34m,\u001b[0m\u001b[0;34m\u001b[0m\u001b[0m\n\u001b[1;32m      5\u001b[0m     \u001b[0mdim_demog_population\u001b[0m \u001b[0;34m==\u001b[0m \u001b[0mschema\u001b[0m\u001b[0;34m.\u001b[0m\u001b[0mdim_demog_population\u001b[0m\u001b[0;34m,\u001b[0m\u001b[0;34m\u001b[0m\u001b[0m\n",
      "\u001b[0;31mAttributeError\u001b[0m: 'NoneType' object has no attribute 'city_code'"
     ]
    }
   ],
   "source": [
    "check_schema = [\n",
    "    city_code == schema.city_code,\n",
    "    dim_immigration_airline == schema.dim_immigration_airline,\n",
    "    dim_demog_statistics == schema.dim_demog_statistics,\n",
    "    dim_demog_population == schema.dim_demog_population,\n",
    "    country_code == schema.country_code,\n",
    "    state_code == schema.state_code,\n",
    "    dim_immigration_personal == schema.dim_immigration_personal,\n",
    "    dim_temperature == schema.dim_temperature,\n",
    "    fact_immigration == schema.fact_immigration\n",
    "]"
   ]
  },
  {
   "cell_type": "code",
   "execution_count": null,
   "metadata": {
    "editable": true
   },
   "outputs": [],
   "source": [
    "for table, value in zip(check_schema,tables):\n",
    "    assert !value:\n",
    "        print(\"There is miss match!\")\n",
    "        print(f\"SOURCE: table\")\n",
    "        \n",
    "# if any(check_schema):\n",
    "#     print(\"There is miss match!\")\n",
    "# else:\n",
    "#     print(\"Data schema of every table matches data model\")"
   ]
  },
  {
   "cell_type": "code",
   "execution_count": null,
   "metadata": {
    "editable": true
   },
   "outputs": [],
   "source": []
  },
  {
   "cell_type": "markdown",
   "metadata": {
    "editable": true
   },
   "source": [
    "### 2. No empty table after running ETL data pipeline\n"
   ]
  },
  {
   "cell_type": "code",
   "execution_count": null,
   "metadata": {
    "editable": true
   },
   "outputs": [],
   "source": [
    "for file_directory in bucket.iterdir():\n",
    "    if file_directory.is_dir():\n",
    "        path = str(file_directory)\n",
    "        df = spark.read.parquet(path)\n",
    "        record_num = df.count()\n",
    "        if record_num <= 0:\n",
    "            raise ValueError(\"This table is empty!\")\n",
    "        else:\n",
    "            print(\n",
    "                \"Table: \"\n",
    "                + path.split(\"/\")[-1]\n",
    "                + f\" is not empty: total {thousands_separator(record_num)} records.\"\n",
    "            )\n"
   ]
  },
  {
   "cell_type": "code",
   "execution_count": null,
   "metadata": {
    "editable": true
   },
   "outputs": [],
   "source": []
  }
 ],
 "metadata": {
  "kernelspec": {
   "display_name": "Python 3",
   "language": "python",
   "name": "python3"
  },
  "language_info": {
   "codemirror_mode": {
    "name": "ipython",
    "version": 3
   },
   "file_extension": ".py",
   "mimetype": "text/x-python",
   "name": "python",
   "nbconvert_exporter": "python",
   "pygments_lexer": "ipython3",
   "version": "3.6.3"
  }
 },
 "nbformat": 4,
 "nbformat_minor": 4
}
