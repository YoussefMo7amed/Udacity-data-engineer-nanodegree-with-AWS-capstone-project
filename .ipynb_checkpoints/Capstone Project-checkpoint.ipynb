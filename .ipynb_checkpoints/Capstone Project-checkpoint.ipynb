{
 "cells": [
  {
   "cell_type": "markdown",
   "metadata": {
    "editable": true
   },
   "source": [
    "# Capstone Project - Udacity Data Engineer Nanodegree\n",
    "\n",
    "#### Project Summary\n",
    "\n",
    "The main goal of this project is building up a [data warehouse](https://en.wikipedia.org/wiki/Data_warehouse) as a [single-source-of-truth](https://en.wikipedia.org/wiki/Single_source_of_truth) database by integrating data from different data sources for data analytics purpose and future backend usage.\n"
   ]
  },
  {
   "cell_type": "markdown",
   "metadata": {
    "editable": true
   },
   "source": [
    "The project follows the follow steps:\n",
    "\n",
    "-   [Step 1: Scope the Project and Gather Data](#Step-1:-Scope-the-Project-and-Gather-Data)\n",
    "    -   [Describe and Gather Data](#Describe-and-Gather-Data)\n",
    "\n",
    "---\n",
    "\n",
    "-   [Step 2: Explore and Assess the Data](Step-2:-Explore-and-Assess-the-Data)\n",
    "    1.  [Explore immigration data set](#Explore-immigration-data-set)\n",
    "    1.  [Clean immigration data set](#Clean-immigration-data-set)\n",
    "    1.  [Explore Temperature data set](#Explore-temperature-data-set)\n",
    "    1.  [Clean Temperature data set](Clean-temperature-data-set)\n",
    "    1.  [Explore Demography data set](#Explore-demography-data-set)\n",
    "    1.  [Clean Demography data set](#Explore-demography-data-set)\n",
    "\n",
    "---\n",
    "\n",
    "-   [Step 3: Define the Data Model](#Step-3:-Define-the-Data-Model)\n",
    "\n",
    "---\n",
    "\n",
    "-   [Step 4: Run ETL to Model the Data](#Step-4:-Run-Pipelines-to-Model-the-Data)\n",
    "\n",
    "---\n",
    "\n",
    "-   [Step 5: Complete Project Write Up](#Step-5:-Complete-Project-Write-Up)\n"
   ]
  },
  {
   "cell_type": "code",
   "execution_count": 1,
   "metadata": {
    "editable": true
   },
   "outputs": [],
   "source": [
    "import pyspark\n",
    "from pyspark.sql import SparkSession\n",
    "\n",
    "import wrangle\n",
    "import importlib\n",
    "\n",
    "\n",
    "import helper\n",
    "from helper import *\n"
   ]
  },
  {
   "cell_type": "code",
   "execution_count": 2,
   "metadata": {
    "editable": true
   },
   "outputs": [],
   "source": [
    "import warnings\n",
    "\n",
    "warnings.filterwarnings(action=\"ignore\")\n"
   ]
  },
  {
   "cell_type": "markdown",
   "metadata": {
    "editable": true
   },
   "source": [
    "### Step 1: Scope the Project and Gather Data\n"
   ]
  },
  {
   "cell_type": "markdown",
   "metadata": {
    "editable": true
   },
   "source": [
    "#### Scope\n",
    "\n",
    "In this project we will integrate I94 immigration data, world temperature data and US demographic data sets to setup a data warehouse with fact and dimension tables (star schema).\n",
    "\n",
    "-   Data Sets\n",
    "\n",
    "    1. [I94 Immigration Data](https://travel.trade.gov/research/reports/i94/historical/2016.html)\n",
    "    2. [World Temperature Data](https://www.kaggle.com/berkeleyearth/climate-change-earth-surface-temperature-data)\n",
    "    3. [U.S. City Demographic Data](https://public.opendatasoft.com/explore/dataset/us-cities-demographics/export/)\n",
    "\n",
    "-   Tools\n",
    "    -   Python for data processing\n",
    "        -   PySpark - data processing on large data set\n",
    "    -   AWS S3: data storage\n"
   ]
  },
  {
   "cell_type": "markdown",
   "metadata": {
    "editable": true
   },
   "source": [
    "#### Describe and Gather Data\n",
    "\n",
    "| Data Set                                                                                                     | Format | Brief description                                                                                                                                                                                                                               |\n",
    "| ------------------------------------------------------------------------------------------------------------ | ------ | ----------------------------------------------------------------------------------------------------------------------------------------------------------------------------------------------------------------------------------------------- |\n",
    "| [I94 Immigration Data](https://travel.trade.gov/research/reports/i94/historical/2016.html)                   | SAS    | Data contains international visitor arrival statistics by world regions and select countries, type of visa, transportation method, states visited (first intended address only), age groups, and the top ports of entry (for select countries). |\n",
    "| [World Temperature Data](https://www.kaggle.com/berkeleyearth/climate-change-earth-surface-temperature-data) | CSV    | This dataset is from Kaggle and contains monthly average temperature data at different countries in the world wide since 1750.                                                                                                                  |\n",
    "| [U.S. City Demographic Data](https://public.opendatasoft.com/explore/dataset/us-cities-demographics/export/) | CSV    | This dataset contains information about the demographics of all US cities and census-designated places with a population greater or equal to 65,000.                                                                                            |\n"
   ]
  },
  {
   "cell_type": "markdown",
   "metadata": {
    "editable": true
   },
   "source": [
    "### Step 2: Explore and Assess the Data\n"
   ]
  },
  {
   "cell_type": "markdown",
   "metadata": {
    "editable": true
   },
   "source": [
    "#### Explore the data\n",
    "\n",
    "1. Use pandas for exploratory data analysis to get an overview on these data sets\n",
    "2. Split data sets to dimensional tables and change column names for better understanding\n",
    "3. Utilize PySpark on one of the SAS data sets to test ETL data pipeline logic\n"
   ]
  },
  {
   "cell_type": "markdown",
   "metadata": {
    "editable": true
   },
   "source": [
    "Create spark sessoin.\n"
   ]
  },
  {
   "cell_type": "code",
   "execution_count": 3,
   "metadata": {
    "editable": true
   },
   "outputs": [],
   "source": [
    "# spark = (\n",
    "#     SparkSession.builder.config(\n",
    "#         \"spark.jars.packages\", \"saurfang:spark-sas7bdat:2.0.0-s_2.11\"\n",
    "#     )\n",
    "#     .enableHiveSupport()\n",
    "#     .getOrCreate()\n",
    "# )\n",
    "spark = (\n",
    "    SparkSession.builder.config(\n",
    "        \"spark.jars.packages\", \"org.apache.hadoop:hadoop-aws:2.7.0\"\n",
    "    )\n",
    "    .enableHiveSupport()\n",
    "    .getOrCreate()\n",
    ")\n",
    "spark.sparkContext.setLogLevel(\"WARN\")\n"
   ]
  },
  {
   "cell_type": "markdown",
   "metadata": {
    "editable": true
   },
   "source": [
    "##### Explore immigration data set\n"
   ]
  },
  {
   "cell_type": "code",
   "execution_count": 4,
   "metadata": {
    "editable": true
   },
   "outputs": [],
   "source": [
    "# Read in the data here\n",
    "data_path = \"sample_data/immigration_data_sample.csv\"\n",
    "df_immigration = spark.read.csv(data_path, header=True, inferSchema=True)\n"
   ]
  },
  {
   "cell_type": "code",
   "execution_count": 5,
   "metadata": {
    "editable": true
   },
   "outputs": [
    {
     "data": {
      "text/html": [
       "<div>\n",
       "<style scoped>\n",
       "    .dataframe tbody tr th:only-of-type {\n",
       "        vertical-align: middle;\n",
       "    }\n",
       "\n",
       "    .dataframe tbody tr th {\n",
       "        vertical-align: top;\n",
       "    }\n",
       "\n",
       "    .dataframe thead th {\n",
       "        text-align: right;\n",
       "    }\n",
       "</style>\n",
       "<table border=\"1\" class=\"dataframe\">\n",
       "  <thead>\n",
       "    <tr style=\"text-align: right;\">\n",
       "      <th></th>\n",
       "      <th>_c0</th>\n",
       "      <th>cicid</th>\n",
       "      <th>i94yr</th>\n",
       "      <th>i94mon</th>\n",
       "      <th>i94cit</th>\n",
       "      <th>i94res</th>\n",
       "      <th>i94port</th>\n",
       "      <th>arrdate</th>\n",
       "      <th>i94mode</th>\n",
       "      <th>i94addr</th>\n",
       "      <th>...</th>\n",
       "      <th>entdepu</th>\n",
       "      <th>matflag</th>\n",
       "      <th>biryear</th>\n",
       "      <th>dtaddto</th>\n",
       "      <th>gender</th>\n",
       "      <th>insnum</th>\n",
       "      <th>airline</th>\n",
       "      <th>admnum</th>\n",
       "      <th>fltno</th>\n",
       "      <th>visatype</th>\n",
       "    </tr>\n",
       "  </thead>\n",
       "  <tbody>\n",
       "    <tr>\n",
       "      <th>0</th>\n",
       "      <td>2027561</td>\n",
       "      <td>4084316.0</td>\n",
       "      <td>2016.0</td>\n",
       "      <td>4.0</td>\n",
       "      <td>209.0</td>\n",
       "      <td>209.0</td>\n",
       "      <td>HHW</td>\n",
       "      <td>20566.0</td>\n",
       "      <td>1.0</td>\n",
       "      <td>HI</td>\n",
       "      <td>...</td>\n",
       "      <td>None</td>\n",
       "      <td>M</td>\n",
       "      <td>1955.0</td>\n",
       "      <td>07202016</td>\n",
       "      <td>F</td>\n",
       "      <td>None</td>\n",
       "      <td>JL</td>\n",
       "      <td>5.658267e+10</td>\n",
       "      <td>00782</td>\n",
       "      <td>WT</td>\n",
       "    </tr>\n",
       "    <tr>\n",
       "      <th>1</th>\n",
       "      <td>2171295</td>\n",
       "      <td>4422636.0</td>\n",
       "      <td>2016.0</td>\n",
       "      <td>4.0</td>\n",
       "      <td>582.0</td>\n",
       "      <td>582.0</td>\n",
       "      <td>MCA</td>\n",
       "      <td>20567.0</td>\n",
       "      <td>1.0</td>\n",
       "      <td>TX</td>\n",
       "      <td>...</td>\n",
       "      <td>None</td>\n",
       "      <td>M</td>\n",
       "      <td>1990.0</td>\n",
       "      <td>10222016</td>\n",
       "      <td>M</td>\n",
       "      <td>None</td>\n",
       "      <td>*GA</td>\n",
       "      <td>9.436200e+10</td>\n",
       "      <td>XBLNG</td>\n",
       "      <td>B2</td>\n",
       "    </tr>\n",
       "    <tr>\n",
       "      <th>2</th>\n",
       "      <td>589494</td>\n",
       "      <td>1195600.0</td>\n",
       "      <td>2016.0</td>\n",
       "      <td>4.0</td>\n",
       "      <td>148.0</td>\n",
       "      <td>112.0</td>\n",
       "      <td>OGG</td>\n",
       "      <td>20551.0</td>\n",
       "      <td>1.0</td>\n",
       "      <td>FL</td>\n",
       "      <td>...</td>\n",
       "      <td>None</td>\n",
       "      <td>M</td>\n",
       "      <td>1940.0</td>\n",
       "      <td>07052016</td>\n",
       "      <td>M</td>\n",
       "      <td>None</td>\n",
       "      <td>LH</td>\n",
       "      <td>5.578047e+10</td>\n",
       "      <td>00464</td>\n",
       "      <td>WT</td>\n",
       "    </tr>\n",
       "    <tr>\n",
       "      <th>3</th>\n",
       "      <td>2631158</td>\n",
       "      <td>5291768.0</td>\n",
       "      <td>2016.0</td>\n",
       "      <td>4.0</td>\n",
       "      <td>297.0</td>\n",
       "      <td>297.0</td>\n",
       "      <td>LOS</td>\n",
       "      <td>20572.0</td>\n",
       "      <td>1.0</td>\n",
       "      <td>CA</td>\n",
       "      <td>...</td>\n",
       "      <td>None</td>\n",
       "      <td>M</td>\n",
       "      <td>1991.0</td>\n",
       "      <td>10272016</td>\n",
       "      <td>M</td>\n",
       "      <td>None</td>\n",
       "      <td>QR</td>\n",
       "      <td>9.478970e+10</td>\n",
       "      <td>00739</td>\n",
       "      <td>B2</td>\n",
       "    </tr>\n",
       "    <tr>\n",
       "      <th>4</th>\n",
       "      <td>3032257</td>\n",
       "      <td>985523.0</td>\n",
       "      <td>2016.0</td>\n",
       "      <td>4.0</td>\n",
       "      <td>111.0</td>\n",
       "      <td>111.0</td>\n",
       "      <td>CHM</td>\n",
       "      <td>20550.0</td>\n",
       "      <td>3.0</td>\n",
       "      <td>NY</td>\n",
       "      <td>...</td>\n",
       "      <td>None</td>\n",
       "      <td>M</td>\n",
       "      <td>1997.0</td>\n",
       "      <td>07042016</td>\n",
       "      <td>F</td>\n",
       "      <td>None</td>\n",
       "      <td>None</td>\n",
       "      <td>4.232257e+10</td>\n",
       "      <td>LAND</td>\n",
       "      <td>WT</td>\n",
       "    </tr>\n",
       "  </tbody>\n",
       "</table>\n",
       "<p>5 rows × 29 columns</p>\n",
       "</div>"
      ],
      "text/plain": [
       "       _c0      cicid   i94yr  i94mon  i94cit  i94res i94port  arrdate  \\\n",
       "0  2027561  4084316.0  2016.0     4.0   209.0   209.0     HHW  20566.0   \n",
       "1  2171295  4422636.0  2016.0     4.0   582.0   582.0     MCA  20567.0   \n",
       "2   589494  1195600.0  2016.0     4.0   148.0   112.0     OGG  20551.0   \n",
       "3  2631158  5291768.0  2016.0     4.0   297.0   297.0     LOS  20572.0   \n",
       "4  3032257   985523.0  2016.0     4.0   111.0   111.0     CHM  20550.0   \n",
       "\n",
       "   i94mode i94addr   ...     entdepu  matflag  biryear   dtaddto  gender  \\\n",
       "0      1.0      HI   ...        None        M   1955.0  07202016       F   \n",
       "1      1.0      TX   ...        None        M   1990.0  10222016       M   \n",
       "2      1.0      FL   ...        None        M   1940.0  07052016       M   \n",
       "3      1.0      CA   ...        None        M   1991.0  10272016       M   \n",
       "4      3.0      NY   ...        None        M   1997.0  07042016       F   \n",
       "\n",
       "  insnum airline        admnum  fltno visatype  \n",
       "0   None      JL  5.658267e+10  00782       WT  \n",
       "1   None     *GA  9.436200e+10  XBLNG       B2  \n",
       "2   None      LH  5.578047e+10  00464       WT  \n",
       "3   None      QR  9.478970e+10  00739       B2  \n",
       "4   None    None  4.232257e+10   LAND       WT  \n",
       "\n",
       "[5 rows x 29 columns]"
      ]
     },
     "execution_count": 5,
     "metadata": {},
     "output_type": "execute_result"
    }
   ],
   "source": [
    "df_immigration.limit(5).toPandas()\n"
   ]
  },
  {
   "cell_type": "code",
   "execution_count": 6,
   "metadata": {
    "editable": true,
    "scrolled": true
   },
   "outputs": [
    {
     "data": {
      "text/plain": [
       "['_c0',\n",
       " 'cicid',\n",
       " 'i94yr',\n",
       " 'i94mon',\n",
       " 'i94cit',\n",
       " 'i94res',\n",
       " 'i94port',\n",
       " 'arrdate',\n",
       " 'i94mode',\n",
       " 'i94addr',\n",
       " 'depdate',\n",
       " 'i94bir',\n",
       " 'i94visa',\n",
       " 'count',\n",
       " 'dtadfile',\n",
       " 'visapost',\n",
       " 'occup',\n",
       " 'entdepa',\n",
       " 'entdepd',\n",
       " 'entdepu',\n",
       " 'matflag',\n",
       " 'biryear',\n",
       " 'dtaddto',\n",
       " 'gender',\n",
       " 'insnum',\n",
       " 'airline',\n",
       " 'admnum',\n",
       " 'fltno',\n",
       " 'visatype']"
      ]
     },
     "execution_count": 6,
     "metadata": {},
     "output_type": "execute_result"
    }
   ],
   "source": [
    "df_immigration.columns\n"
   ]
  },
  {
   "cell_type": "markdown",
   "metadata": {
    "editable": true
   },
   "source": [
    "| column   | Description                                                                        |\n",
    "| -------- | ---------------------------------------------------------------------------------- |\n",
    "| cicid    | Unique record ID                                                                   |\n",
    "| i94yr    | 4 digit year                                                                       |\n",
    "| i94mon   | Numeric month                                                                      |\n",
    "| i94cit   | 3 digit code for immigrant country of birth                                        |\n",
    "| i94res   | 3 digit code for immigrant country of residence                                    |\n",
    "| i94port  | Port of admission                                                                  |\n",
    "| arrdate  | Arrival Date in the USA                                                            |\n",
    "| i94mode  | Mode of transportation (1 = Air; 2 = Sea; 3 = Land; 9 = Not reported)              |\n",
    "| i94addr  | USA State of arrival                                                               |\n",
    "| depdate  | Departure Date from the USA                                                        |\n",
    "| i94bir   | Age of Respondent in Years                                                         |\n",
    "| i94visa  | Visa codes collapsed into three categories                                         |\n",
    "| count    | Field used for summary statistics                                                  |\n",
    "| dtadfile | Character Date Field - Date added to I-94 Files                                    |\n",
    "| visapost | Department of State where where Visa was issued                                    |\n",
    "| occup    | Occupation that will be performed in U.S                                           |\n",
    "| entdepa  | Arrival Flag - admitted or paroled into the U.S.                                   |\n",
    "| entdepd  | Departure Flag - Departed, lost I-94 or is deceased                                |\n",
    "| entdepu  | Update Flag - Either apprehended, overstayed, adjusted to perm residence           |\n",
    "| matflag  | Match flag - Match of arrival and departure records                                |\n",
    "| biryear  | 4 digit year of birth                                                              |\n",
    "| dtaddto  | Character Date Field - Date to which admitted to U.S. (allowed to stay until)      |\n",
    "| gender   | Non-immigrant sex                                                                  |\n",
    "| insnum   | INS number                                                                         |\n",
    "| airline  | Airline used to arrive in U.S.                                                     |\n",
    "| admnum   | Admission Number                                                                   |\n",
    "| fltno    | Flight number of Airline used to arrive in U.S.                                    |\n",
    "| visatype | Class of admission legally admitting the non-immigrant to temporarily stay in U.S. |\n"
   ]
  },
  {
   "cell_type": "code",
   "execution_count": 7,
   "metadata": {
    "editable": true,
    "scrolled": true
   },
   "outputs": [
    {
     "name": "stdout",
     "output_type": "stream",
     "text": [
      "number of records:\t1,000\n"
     ]
    }
   ],
   "source": [
    "print_number_of_records(df_immigration.count())\n"
   ]
  },
  {
   "cell_type": "code",
   "execution_count": 8,
   "metadata": {
    "editable": true,
    "scrolled": true
   },
   "outputs": [
    {
     "data": {
      "text/html": [
       "<div>\n",
       "<style scoped>\n",
       "    .dataframe tbody tr th:only-of-type {\n",
       "        vertical-align: middle;\n",
       "    }\n",
       "\n",
       "    .dataframe tbody tr th {\n",
       "        vertical-align: top;\n",
       "    }\n",
       "\n",
       "    .dataframe thead th {\n",
       "        text-align: right;\n",
       "    }\n",
       "</style>\n",
       "<table border=\"1\" class=\"dataframe\">\n",
       "  <thead>\n",
       "    <tr style=\"text-align: right;\">\n",
       "      <th></th>\n",
       "      <th>column_name</th>\n",
       "      <th>missing_count</th>\n",
       "      <th>missing_percentage</th>\n",
       "    </tr>\n",
       "  </thead>\n",
       "  <tbody>\n",
       "    <tr>\n",
       "      <th>5</th>\n",
       "      <td>entdepu</td>\n",
       "      <td>1000</td>\n",
       "      <td>100.0</td>\n",
       "    </tr>\n",
       "    <tr>\n",
       "      <th>3</th>\n",
       "      <td>occup</td>\n",
       "      <td>996</td>\n",
       "      <td>99.6</td>\n",
       "    </tr>\n",
       "    <tr>\n",
       "      <th>8</th>\n",
       "      <td>insnum</td>\n",
       "      <td>965</td>\n",
       "      <td>96.5</td>\n",
       "    </tr>\n",
       "    <tr>\n",
       "      <th>2</th>\n",
       "      <td>visapost</td>\n",
       "      <td>618</td>\n",
       "      <td>61.8</td>\n",
       "    </tr>\n",
       "    <tr>\n",
       "      <th>7</th>\n",
       "      <td>gender</td>\n",
       "      <td>141</td>\n",
       "      <td>14.1</td>\n",
       "    </tr>\n",
       "    <tr>\n",
       "      <th>0</th>\n",
       "      <td>i94addr</td>\n",
       "      <td>59</td>\n",
       "      <td>5.9</td>\n",
       "    </tr>\n",
       "    <tr>\n",
       "      <th>1</th>\n",
       "      <td>depdate</td>\n",
       "      <td>49</td>\n",
       "      <td>4.9</td>\n",
       "    </tr>\n",
       "    <tr>\n",
       "      <th>4</th>\n",
       "      <td>entdepd</td>\n",
       "      <td>46</td>\n",
       "      <td>4.6</td>\n",
       "    </tr>\n",
       "    <tr>\n",
       "      <th>6</th>\n",
       "      <td>matflag</td>\n",
       "      <td>46</td>\n",
       "      <td>4.6</td>\n",
       "    </tr>\n",
       "    <tr>\n",
       "      <th>9</th>\n",
       "      <td>airline</td>\n",
       "      <td>33</td>\n",
       "      <td>3.3</td>\n",
       "    </tr>\n",
       "    <tr>\n",
       "      <th>10</th>\n",
       "      <td>fltno</td>\n",
       "      <td>8</td>\n",
       "      <td>0.8</td>\n",
       "    </tr>\n",
       "  </tbody>\n",
       "</table>\n",
       "</div>"
      ],
      "text/plain": [
       "   column_name  missing_count  missing_percentage\n",
       "5      entdepu           1000               100.0\n",
       "3        occup            996                99.6\n",
       "8       insnum            965                96.5\n",
       "2     visapost            618                61.8\n",
       "7       gender            141                14.1\n",
       "0      i94addr             59                 5.9\n",
       "1      depdate             49                 4.9\n",
       "4      entdepd             46                 4.6\n",
       "6      matflag             46                 4.6\n",
       "9      airline             33                 3.3\n",
       "10       fltno              8                 0.8"
      ]
     },
     "execution_count": 8,
     "metadata": {},
     "output_type": "execute_result"
    }
   ],
   "source": [
    "missing_values_as_df(df_immigration)\n"
   ]
  },
  {
   "cell_type": "markdown",
   "metadata": {
    "editable": true
   },
   "source": [
    "##### Clean immigration data set\n"
   ]
  },
  {
   "cell_type": "markdown",
   "metadata": {
    "editable": true
   },
   "source": [
    "We noticed that there are some columns with over 90% missing values, so we don't need them.\n",
    "\n",
    "> Drop all columns with more than 90 percent missing values.\n",
    "\n",
    "> Drop all duplicates and empty rows.\n",
    "\n",
    "> Transform arrive_date, departure_date in immigration data from SAS time format to panda datetime format.\n"
   ]
  },
  {
   "cell_type": "code",
   "execution_count": 9,
   "metadata": {
    "editable": true,
    "scrolled": true
   },
   "outputs": [],
   "source": [
    "df_immigration = wrangle.drop_immigration_empty_columns(df_immigration)\n"
   ]
  },
  {
   "cell_type": "code",
   "execution_count": 10,
   "metadata": {
    "editable": true
   },
   "outputs": [
    {
     "data": {
      "text/html": [
       "<div>\n",
       "<style scoped>\n",
       "    .dataframe tbody tr th:only-of-type {\n",
       "        vertical-align: middle;\n",
       "    }\n",
       "\n",
       "    .dataframe tbody tr th {\n",
       "        vertical-align: top;\n",
       "    }\n",
       "\n",
       "    .dataframe thead th {\n",
       "        text-align: right;\n",
       "    }\n",
       "</style>\n",
       "<table border=\"1\" class=\"dataframe\">\n",
       "  <thead>\n",
       "    <tr style=\"text-align: right;\">\n",
       "      <th></th>\n",
       "      <th>column_name</th>\n",
       "      <th>missing_count</th>\n",
       "      <th>missing_percentage</th>\n",
       "    </tr>\n",
       "  </thead>\n",
       "  <tbody>\n",
       "    <tr>\n",
       "      <th>2</th>\n",
       "      <td>visapost</td>\n",
       "      <td>618</td>\n",
       "      <td>61.8</td>\n",
       "    </tr>\n",
       "    <tr>\n",
       "      <th>5</th>\n",
       "      <td>gender</td>\n",
       "      <td>141</td>\n",
       "      <td>14.1</td>\n",
       "    </tr>\n",
       "    <tr>\n",
       "      <th>0</th>\n",
       "      <td>i94addr</td>\n",
       "      <td>59</td>\n",
       "      <td>5.9</td>\n",
       "    </tr>\n",
       "    <tr>\n",
       "      <th>1</th>\n",
       "      <td>depdate</td>\n",
       "      <td>49</td>\n",
       "      <td>4.9</td>\n",
       "    </tr>\n",
       "    <tr>\n",
       "      <th>3</th>\n",
       "      <td>entdepd</td>\n",
       "      <td>46</td>\n",
       "      <td>4.6</td>\n",
       "    </tr>\n",
       "    <tr>\n",
       "      <th>4</th>\n",
       "      <td>matflag</td>\n",
       "      <td>46</td>\n",
       "      <td>4.6</td>\n",
       "    </tr>\n",
       "    <tr>\n",
       "      <th>6</th>\n",
       "      <td>airline</td>\n",
       "      <td>33</td>\n",
       "      <td>3.3</td>\n",
       "    </tr>\n",
       "    <tr>\n",
       "      <th>7</th>\n",
       "      <td>fltno</td>\n",
       "      <td>8</td>\n",
       "      <td>0.8</td>\n",
       "    </tr>\n",
       "  </tbody>\n",
       "</table>\n",
       "</div>"
      ],
      "text/plain": [
       "  column_name  missing_count  missing_percentage\n",
       "2    visapost            618                61.8\n",
       "5      gender            141                14.1\n",
       "0     i94addr             59                 5.9\n",
       "1     depdate             49                 4.9\n",
       "3     entdepd             46                 4.6\n",
       "4     matflag             46                 4.6\n",
       "6     airline             33                 3.3\n",
       "7       fltno              8                 0.8"
      ]
     },
     "execution_count": 10,
     "metadata": {},
     "output_type": "execute_result"
    }
   ],
   "source": [
    "missing_values_as_df(df_immigration)\n"
   ]
  },
  {
   "cell_type": "code",
   "execution_count": 11,
   "metadata": {
    "editable": true,
    "scrolled": true
   },
   "outputs": [],
   "source": [
    "fact_immigration = df_immigration[\n",
    "    [\n",
    "        \"cicid\",\n",
    "        \"i94yr\",\n",
    "        \"i94mon\",\n",
    "        \"i94port\",\n",
    "        \"i94addr\",\n",
    "        \"arrdate\",\n",
    "        \"depdate\",\n",
    "        \"i94mode\",\n",
    "        \"i94visa\",\n",
    "    ]\n",
    "]\n"
   ]
  },
  {
   "cell_type": "code",
   "execution_count": 12,
   "metadata": {
    "editable": true
   },
   "outputs": [
    {
     "data": {
      "text/html": [
       "<div>\n",
       "<style scoped>\n",
       "    .dataframe tbody tr th:only-of-type {\n",
       "        vertical-align: middle;\n",
       "    }\n",
       "\n",
       "    .dataframe tbody tr th {\n",
       "        vertical-align: top;\n",
       "    }\n",
       "\n",
       "    .dataframe thead th {\n",
       "        text-align: right;\n",
       "    }\n",
       "</style>\n",
       "<table border=\"1\" class=\"dataframe\">\n",
       "  <thead>\n",
       "    <tr style=\"text-align: right;\">\n",
       "      <th></th>\n",
       "      <th>cic_id</th>\n",
       "      <th>year</th>\n",
       "      <th>month</th>\n",
       "      <th>city_code</th>\n",
       "      <th>state_code</th>\n",
       "      <th>arrive_date</th>\n",
       "      <th>departure_date</th>\n",
       "      <th>mode</th>\n",
       "      <th>visa</th>\n",
       "      <th>country</th>\n",
       "      <th>immigration_id</th>\n",
       "    </tr>\n",
       "  </thead>\n",
       "  <tbody>\n",
       "    <tr>\n",
       "      <th>0</th>\n",
       "      <td>4084316</td>\n",
       "      <td>2016</td>\n",
       "      <td>4</td>\n",
       "      <td>HHW</td>\n",
       "      <td>HI</td>\n",
       "      <td>1970-01-01 05:42:46</td>\n",
       "      <td>1970-01-01 05:42:53</td>\n",
       "      <td>1</td>\n",
       "      <td>2</td>\n",
       "      <td>United States</td>\n",
       "      <td>0</td>\n",
       "    </tr>\n",
       "    <tr>\n",
       "      <th>1</th>\n",
       "      <td>4422636</td>\n",
       "      <td>2016</td>\n",
       "      <td>4</td>\n",
       "      <td>MCA</td>\n",
       "      <td>TX</td>\n",
       "      <td>1970-01-01 05:42:47</td>\n",
       "      <td>1970-01-01 05:42:48</td>\n",
       "      <td>1</td>\n",
       "      <td>2</td>\n",
       "      <td>United States</td>\n",
       "      <td>1</td>\n",
       "    </tr>\n",
       "    <tr>\n",
       "      <th>2</th>\n",
       "      <td>1195600</td>\n",
       "      <td>2016</td>\n",
       "      <td>4</td>\n",
       "      <td>OGG</td>\n",
       "      <td>FL</td>\n",
       "      <td>1970-01-01 05:42:31</td>\n",
       "      <td>1970-01-01 05:42:51</td>\n",
       "      <td>1</td>\n",
       "      <td>2</td>\n",
       "      <td>United States</td>\n",
       "      <td>2</td>\n",
       "    </tr>\n",
       "    <tr>\n",
       "      <th>3</th>\n",
       "      <td>5291768</td>\n",
       "      <td>2016</td>\n",
       "      <td>4</td>\n",
       "      <td>LOS</td>\n",
       "      <td>CA</td>\n",
       "      <td>1970-01-01 05:42:52</td>\n",
       "      <td>1970-01-01 05:43:01</td>\n",
       "      <td>1</td>\n",
       "      <td>2</td>\n",
       "      <td>United States</td>\n",
       "      <td>3</td>\n",
       "    </tr>\n",
       "    <tr>\n",
       "      <th>4</th>\n",
       "      <td>985523</td>\n",
       "      <td>2016</td>\n",
       "      <td>4</td>\n",
       "      <td>CHM</td>\n",
       "      <td>NY</td>\n",
       "      <td>1970-01-01 05:42:30</td>\n",
       "      <td>1970-01-01 05:42:33</td>\n",
       "      <td>3</td>\n",
       "      <td>2</td>\n",
       "      <td>United States</td>\n",
       "      <td>4</td>\n",
       "    </tr>\n",
       "  </tbody>\n",
       "</table>\n",
       "</div>"
      ],
      "text/plain": [
       "    cic_id  year  month city_code state_code         arrive_date  \\\n",
       "0  4084316  2016      4       HHW         HI 1970-01-01 05:42:46   \n",
       "1  4422636  2016      4       MCA         TX 1970-01-01 05:42:47   \n",
       "2  1195600  2016      4       OGG         FL 1970-01-01 05:42:31   \n",
       "3  5291768  2016      4       LOS         CA 1970-01-01 05:42:52   \n",
       "4   985523  2016      4       CHM         NY 1970-01-01 05:42:30   \n",
       "\n",
       "       departure_date  mode  visa        country  immigration_id  \n",
       "0 1970-01-01 05:42:53     1     2  United States               0  \n",
       "1 1970-01-01 05:42:48     1     2  United States               1  \n",
       "2 1970-01-01 05:42:51     1     2  United States               2  \n",
       "3 1970-01-01 05:43:01     1     2  United States               3  \n",
       "4 1970-01-01 05:42:33     3     2  United States               4  "
      ]
     },
     "execution_count": 12,
     "metadata": {},
     "output_type": "execute_result"
    }
   ],
   "source": [
    "fact_immigration = wrangle.fact_immigration(fact_immigration)\n",
    "fact_immigration.limit(5).toPandas()\n"
   ]
  },
  {
   "cell_type": "code",
   "execution_count": 13,
   "metadata": {
    "editable": true,
    "scrolled": true
   },
   "outputs": [
    {
     "data": {
      "text/plain": [
       "['cic_id',\n",
       " 'year',\n",
       " 'month',\n",
       " 'city_code',\n",
       " 'state_code',\n",
       " 'arrive_date',\n",
       " 'departure_date',\n",
       " 'mode',\n",
       " 'visa',\n",
       " 'country',\n",
       " 'immigration_id']"
      ]
     },
     "execution_count": 13,
     "metadata": {},
     "output_type": "execute_result"
    }
   ],
   "source": [
    "fact_immigration.columns\n"
   ]
  },
  {
   "cell_type": "code",
   "execution_count": 14,
   "metadata": {
    "editable": true
   },
   "outputs": [
    {
     "name": "stdout",
     "output_type": "stream",
     "text": [
      "root\n",
      " |-- cic_id: long (nullable = true)\n",
      " |-- year: integer (nullable = true)\n",
      " |-- month: integer (nullable = true)\n",
      " |-- city_code: string (nullable = true)\n",
      " |-- state_code: string (nullable = true)\n",
      " |-- arrive_date: timestamp (nullable = true)\n",
      " |-- departure_date: timestamp (nullable = true)\n",
      " |-- mode: integer (nullable = true)\n",
      " |-- visa: integer (nullable = true)\n",
      " |-- country: string (nullable = false)\n",
      " |-- immigration_id: integer (nullable = false)\n",
      "\n"
     ]
    }
   ],
   "source": [
    "fact_immigration.createOrReplaceTempView(\"fact_immigration\")\n",
    "fact_immigration.printSchema()"
   ]
  },
  {
   "cell_type": "code",
   "execution_count": 15,
   "metadata": {
    "editable": true
   },
   "outputs": [
    {
     "name": "stdout",
     "output_type": "stream",
     "text": [
      "+-------+----+-----+---------+----------+-------------------+-------------------+----+----+-------------+--------------+\n",
      "| cic_id|year|month|city_code|state_code|        arrive_date|     departure_date|mode|visa|      country|immigration_id|\n",
      "+-------+----+-----+---------+----------+-------------------+-------------------+----+----+-------------+--------------+\n",
      "|4084316|2016|    4|      HHW|        HI|1970-01-01 05:42:46|1970-01-01 05:42:53|   1|   2|United States|             0|\n",
      "|4422636|2016|    4|      MCA|        TX|1970-01-01 05:42:47|1970-01-01 05:42:48|   1|   2|United States|             1|\n",
      "|1195600|2016|    4|      OGG|        FL|1970-01-01 05:42:31|1970-01-01 05:42:51|   1|   2|United States|             2|\n",
      "|5291768|2016|    4|      LOS|        CA|1970-01-01 05:42:52|1970-01-01 05:43:01|   1|   2|United States|             3|\n",
      "| 985523|2016|    4|      CHM|        NY|1970-01-01 05:42:30|1970-01-01 05:42:33|   3|   2|United States|             4|\n",
      "|1481650|2016|    4|      ATL|        GA|1970-01-01 05:42:32|1970-01-01 05:43:26|   1|   2|United States|             5|\n",
      "|2197173|2016|    4|      SFR|        CA|1970-01-01 05:42:36|1970-01-01 05:43:55|   1|   2|United States|             6|\n",
      "| 232708|2016|    4|      NYC|        NY|1970-01-01 05:42:26|1970-01-01 05:42:34|   1|   2|United States|             7|\n",
      "|5227851|2016|    4|      CHI|        IL|1970-01-01 05:42:52|1970-01-01 05:42:55|   1|   2|United States|             8|\n",
      "|  13213|2016|    4|      LOS|        CA|1970-01-01 05:42:25|1970-01-01 05:42:33|   1|   2|United States|             9|\n",
      "+-------+----+-----+---------+----------+-------------------+-------------------+----+----+-------------+--------------+\n",
      "\n"
     ]
    }
   ],
   "source": [
    "spark.sql(\"select * from fact_immigration limit 10\").show()"
   ]
  },
  {
   "cell_type": "code",
   "execution_count": 16,
   "metadata": {
    "editable": true
   },
   "outputs": [],
   "source": [
    "dim_immigration_personal = df_immigration[\n",
    "    [\"cicid\", \"i94cit\", \"i94res\", \"biryear\", \"gender\"]\n",
    "]\n"
   ]
  },
  {
   "cell_type": "code",
   "execution_count": 17,
   "metadata": {
    "editable": true,
    "scrolled": true
   },
   "outputs": [
    {
     "data": {
      "text/html": [
       "<div>\n",
       "<style scoped>\n",
       "    .dataframe tbody tr th:only-of-type {\n",
       "        vertical-align: middle;\n",
       "    }\n",
       "\n",
       "    .dataframe tbody tr th {\n",
       "        vertical-align: top;\n",
       "    }\n",
       "\n",
       "    .dataframe thead th {\n",
       "        text-align: right;\n",
       "    }\n",
       "</style>\n",
       "<table border=\"1\" class=\"dataframe\">\n",
       "  <thead>\n",
       "    <tr style=\"text-align: right;\">\n",
       "      <th></th>\n",
       "      <th>cic_id</th>\n",
       "      <th>citizen_country</th>\n",
       "      <th>residence_country</th>\n",
       "      <th>birth_year</th>\n",
       "      <th>gender</th>\n",
       "      <th>immi_personal_id</th>\n",
       "    </tr>\n",
       "  </thead>\n",
       "  <tbody>\n",
       "    <tr>\n",
       "      <th>0</th>\n",
       "      <td>4084316</td>\n",
       "      <td>209</td>\n",
       "      <td>209</td>\n",
       "      <td>1955</td>\n",
       "      <td>F</td>\n",
       "      <td>0</td>\n",
       "    </tr>\n",
       "    <tr>\n",
       "      <th>1</th>\n",
       "      <td>4422636</td>\n",
       "      <td>582</td>\n",
       "      <td>582</td>\n",
       "      <td>1990</td>\n",
       "      <td>M</td>\n",
       "      <td>1</td>\n",
       "    </tr>\n",
       "    <tr>\n",
       "      <th>2</th>\n",
       "      <td>1195600</td>\n",
       "      <td>148</td>\n",
       "      <td>112</td>\n",
       "      <td>1940</td>\n",
       "      <td>M</td>\n",
       "      <td>2</td>\n",
       "    </tr>\n",
       "    <tr>\n",
       "      <th>3</th>\n",
       "      <td>5291768</td>\n",
       "      <td>297</td>\n",
       "      <td>297</td>\n",
       "      <td>1991</td>\n",
       "      <td>M</td>\n",
       "      <td>3</td>\n",
       "    </tr>\n",
       "    <tr>\n",
       "      <th>4</th>\n",
       "      <td>985523</td>\n",
       "      <td>111</td>\n",
       "      <td>111</td>\n",
       "      <td>1997</td>\n",
       "      <td>F</td>\n",
       "      <td>4</td>\n",
       "    </tr>\n",
       "  </tbody>\n",
       "</table>\n",
       "</div>"
      ],
      "text/plain": [
       "    cic_id  citizen_country  residence_country  birth_year gender  \\\n",
       "0  4084316              209                209        1955      F   \n",
       "1  4422636              582                582        1990      M   \n",
       "2  1195600              148                112        1940      M   \n",
       "3  5291768              297                297        1991      M   \n",
       "4   985523              111                111        1997      F   \n",
       "\n",
       "   immi_personal_id  \n",
       "0                 0  \n",
       "1                 1  \n",
       "2                 2  \n",
       "3                 3  \n",
       "4                 4  "
      ]
     },
     "execution_count": 17,
     "metadata": {},
     "output_type": "execute_result"
    }
   ],
   "source": [
    "importlib.reload(wrangle)\n",
    "dim_immigration_personal = wrangle.dim_immigration_personal(dim_immigration_personal)\n",
    "dim_immigration_personal.limit(5).toPandas()\n"
   ]
  },
  {
   "cell_type": "code",
   "execution_count": 18,
   "metadata": {
    "editable": true
   },
   "outputs": [
    {
     "name": "stdout",
     "output_type": "stream",
     "text": [
      "root\n",
      " |-- cic_id: long (nullable = true)\n",
      " |-- citizen_country: integer (nullable = true)\n",
      " |-- residence_country: integer (nullable = true)\n",
      " |-- birth_year: integer (nullable = true)\n",
      " |-- gender: string (nullable = true)\n",
      " |-- immi_personal_id: integer (nullable = false)\n",
      "\n"
     ]
    }
   ],
   "source": [
    "dim_immigration_personal.createOrReplaceTempView(\"dim_immigration_personal\")\n",
    "dim_immigration_personal.printSchema()"
   ]
  },
  {
   "cell_type": "code",
   "execution_count": 19,
   "metadata": {
    "editable": true
   },
   "outputs": [
    {
     "name": "stdout",
     "output_type": "stream",
     "text": [
      "+-------+---------------+-----------------+----------+------+----------------+\n",
      "| cic_id|citizen_country|residence_country|birth_year|gender|immi_personal_id|\n",
      "+-------+---------------+-----------------+----------+------+----------------+\n",
      "|4084316|            209|              209|      1955|     F|               0|\n",
      "|4422636|            582|              582|      1990|     M|               1|\n",
      "|1195600|            148|              112|      1940|     M|               2|\n",
      "|5291768|            297|              297|      1991|     M|               3|\n",
      "| 985523|            111|              111|      1997|     F|               4|\n",
      "|1481650|            577|              577|      1965|     M|               5|\n",
      "|2197173|            245|              245|      1968|     F|               6|\n",
      "| 232708|            113|              135|      1983|     F|               7|\n",
      "|5227851|            131|              131|      1977|  null|               8|\n",
      "|  13213|            116|              116|      1981|  null|               9|\n",
      "+-------+---------------+-----------------+----------+------+----------------+\n",
      "\n"
     ]
    }
   ],
   "source": [
    "spark.sql(\"select * from dim_immigration_personal limit 10\").show()"
   ]
  },
  {
   "cell_type": "code",
   "execution_count": 20,
   "metadata": {
    "editable": true
   },
   "outputs": [],
   "source": [
    "dim_immigration_airline = df_immigration[\n",
    "    [\"cicid\", \"airline\", \"admnum\", \"fltno\", \"visatype\"]\n",
    "]\n"
   ]
  },
  {
   "cell_type": "code",
   "execution_count": 21,
   "metadata": {
    "editable": true,
    "scrolled": true
   },
   "outputs": [
    {
     "data": {
      "text/html": [
       "<div>\n",
       "<style scoped>\n",
       "    .dataframe tbody tr th:only-of-type {\n",
       "        vertical-align: middle;\n",
       "    }\n",
       "\n",
       "    .dataframe tbody tr th {\n",
       "        vertical-align: top;\n",
       "    }\n",
       "\n",
       "    .dataframe thead th {\n",
       "        text-align: right;\n",
       "    }\n",
       "</style>\n",
       "<table border=\"1\" class=\"dataframe\">\n",
       "  <thead>\n",
       "    <tr style=\"text-align: right;\">\n",
       "      <th></th>\n",
       "      <th>cic_id</th>\n",
       "      <th>airline</th>\n",
       "      <th>admin_num</th>\n",
       "      <th>flight_number</th>\n",
       "      <th>visa_type</th>\n",
       "      <th>immi_airline_id</th>\n",
       "    </tr>\n",
       "  </thead>\n",
       "  <tbody>\n",
       "    <tr>\n",
       "      <th>0</th>\n",
       "      <td>4084316</td>\n",
       "      <td>JL</td>\n",
       "      <td>56582674633</td>\n",
       "      <td>00782</td>\n",
       "      <td>WT</td>\n",
       "      <td>0</td>\n",
       "    </tr>\n",
       "    <tr>\n",
       "      <th>1</th>\n",
       "      <td>4422636</td>\n",
       "      <td>*GA</td>\n",
       "      <td>94361995930</td>\n",
       "      <td>XBLNG</td>\n",
       "      <td>B2</td>\n",
       "      <td>1</td>\n",
       "    </tr>\n",
       "    <tr>\n",
       "      <th>2</th>\n",
       "      <td>1195600</td>\n",
       "      <td>LH</td>\n",
       "      <td>55780468433</td>\n",
       "      <td>00464</td>\n",
       "      <td>WT</td>\n",
       "      <td>2</td>\n",
       "    </tr>\n",
       "    <tr>\n",
       "      <th>3</th>\n",
       "      <td>5291768</td>\n",
       "      <td>QR</td>\n",
       "      <td>94789696030</td>\n",
       "      <td>00739</td>\n",
       "      <td>B2</td>\n",
       "      <td>3</td>\n",
       "    </tr>\n",
       "    <tr>\n",
       "      <th>4</th>\n",
       "      <td>985523</td>\n",
       "      <td>None</td>\n",
       "      <td>42322572633</td>\n",
       "      <td>LAND</td>\n",
       "      <td>WT</td>\n",
       "      <td>4</td>\n",
       "    </tr>\n",
       "  </tbody>\n",
       "</table>\n",
       "</div>"
      ],
      "text/plain": [
       "    cic_id airline    admin_num flight_number visa_type  immi_airline_id\n",
       "0  4084316      JL  56582674633         00782        WT                0\n",
       "1  4422636     *GA  94361995930         XBLNG        B2                1\n",
       "2  1195600      LH  55780468433         00464        WT                2\n",
       "3  5291768      QR  94789696030         00739        B2                3\n",
       "4   985523    None  42322572633          LAND        WT                4"
      ]
     },
     "execution_count": 21,
     "metadata": {},
     "output_type": "execute_result"
    }
   ],
   "source": [
    "dim_immigration_airline = wrangle.dim_immigration_airline(dim_immigration_airline)\n",
    "dim_immigration_airline.limit(5).toPandas()\n"
   ]
  },
  {
   "cell_type": "code",
   "execution_count": 22,
   "metadata": {
    "editable": true
   },
   "outputs": [
    {
     "name": "stdout",
     "output_type": "stream",
     "text": [
      "root\n",
      " |-- cic_id: long (nullable = true)\n",
      " |-- airline: string (nullable = true)\n",
      " |-- admin_num: long (nullable = true)\n",
      " |-- flight_number: string (nullable = true)\n",
      " |-- visa_type: string (nullable = true)\n",
      " |-- immi_airline_id: integer (nullable = false)\n",
      "\n"
     ]
    }
   ],
   "source": [
    "dim_immigration_airline.createOrReplaceTempView(\"dim_immigration_airline\")\n",
    "dim_immigration_airline.printSchema()"
   ]
  },
  {
   "cell_type": "code",
   "execution_count": 23,
   "metadata": {
    "editable": true
   },
   "outputs": [
    {
     "name": "stdout",
     "output_type": "stream",
     "text": [
      "+-------+-------+-----------+-------------+---------+---------------+\n",
      "| cic_id|airline|  admin_num|flight_number|visa_type|immi_airline_id|\n",
      "+-------+-------+-----------+-------------+---------+---------------+\n",
      "|4084316|     JL|56582674633|        00782|       WT|              0|\n",
      "|4422636|    *GA|94361995930|        XBLNG|       B2|              1|\n",
      "|1195600|     LH|55780468433|        00464|       WT|              2|\n",
      "|5291768|     QR|94789696030|        00739|       B2|              3|\n",
      "| 985523|   null|42322572633|         LAND|       WT|              4|\n",
      "|1481650|     DL|  736852585|          910|       B2|              5|\n",
      "|2197173|     CX|  786312185|          870|       B2|              6|\n",
      "| 232708|     BA|55474485033|        00117|       WT|              7|\n",
      "|5227851|     LX|59413424733|        00008|       WT|              8|\n",
      "|  13213|     AA|55449792933|        00109|       WT|              9|\n",
      "+-------+-------+-----------+-------------+---------+---------------+\n",
      "\n"
     ]
    }
   ],
   "source": [
    "spark.sql(\"select * from dim_immigration_airline limit 10\").show()"
   ]
  },
  {
   "cell_type": "markdown",
   "metadata": {
    "editable": true
   },
   "source": [
    "##### Explore temperature data set\n"
   ]
  },
  {
   "cell_type": "code",
   "execution_count": 24,
   "metadata": {
    "editable": true,
    "scrolled": true
   },
   "outputs": [],
   "source": [
    "# data_path = \"../../data2/GlobalLandTemperaturesByCity.csv\"\n",
    "# df_temperature = spark.read.csv(data_path, header=True, inferSchema=True)\n"
   ]
  },
  {
   "cell_type": "markdown",
   "metadata": {
    "editable": true
   },
   "source": [
    "create a sample data for better perfomence"
   ]
  },
  {
   "cell_type": "code",
   "execution_count": 25,
   "metadata": {
    "editable": true
   },
   "outputs": [],
   "source": [
    "# df_temperature = df_temperature[df_temperature[\"Country\"] == \"United States\"]\n",
    "# df_temperature.limit(5000).toPandas().to_csv(\"sample_data/GlobalLandTemperaturesByCity_sample.csv\", encoding='utf-8',index=False)"
   ]
  },
  {
   "cell_type": "code",
   "execution_count": 26,
   "metadata": {
    "editable": true
   },
   "outputs": [],
   "source": [
    "data_path = \"sample_data/GlobalLandTemperaturesByCity_sample.csv\"\n",
    "df_temperature = spark.read.csv(data_path, header=True, inferSchema=True)\n"
   ]
  },
  {
   "cell_type": "code",
   "execution_count": 27,
   "metadata": {
    "editable": true
   },
   "outputs": [
    {
     "data": {
      "text/plain": [
       "['dt',\n",
       " 'AverageTemperature',\n",
       " 'AverageTemperatureUncertainty',\n",
       " 'City',\n",
       " 'Country',\n",
       " 'Latitude',\n",
       " 'Longitude']"
      ]
     },
     "execution_count": 27,
     "metadata": {},
     "output_type": "execute_result"
    }
   ],
   "source": [
    "df_temperature.columns\n"
   ]
  },
  {
   "cell_type": "code",
   "execution_count": 28,
   "metadata": {
    "editable": true
   },
   "outputs": [
    {
     "data": {
      "text/html": [
       "<div>\n",
       "<style scoped>\n",
       "    .dataframe tbody tr th:only-of-type {\n",
       "        vertical-align: middle;\n",
       "    }\n",
       "\n",
       "    .dataframe tbody tr th {\n",
       "        vertical-align: top;\n",
       "    }\n",
       "\n",
       "    .dataframe thead th {\n",
       "        text-align: right;\n",
       "    }\n",
       "</style>\n",
       "<table border=\"1\" class=\"dataframe\">\n",
       "  <thead>\n",
       "    <tr style=\"text-align: right;\">\n",
       "      <th></th>\n",
       "      <th>dt</th>\n",
       "      <th>AverageTemperature</th>\n",
       "      <th>AverageTemperatureUncertainty</th>\n",
       "      <th>City</th>\n",
       "      <th>Country</th>\n",
       "      <th>Latitude</th>\n",
       "      <th>Longitude</th>\n",
       "    </tr>\n",
       "  </thead>\n",
       "  <tbody>\n",
       "    <tr>\n",
       "      <th>0</th>\n",
       "      <td>1820-01-01</td>\n",
       "      <td>2.101</td>\n",
       "      <td>3.217</td>\n",
       "      <td>Abilene</td>\n",
       "      <td>United States</td>\n",
       "      <td>32.95N</td>\n",
       "      <td>100.53W</td>\n",
       "    </tr>\n",
       "    <tr>\n",
       "      <th>1</th>\n",
       "      <td>1820-02-01</td>\n",
       "      <td>6.926</td>\n",
       "      <td>2.853</td>\n",
       "      <td>Abilene</td>\n",
       "      <td>United States</td>\n",
       "      <td>32.95N</td>\n",
       "      <td>100.53W</td>\n",
       "    </tr>\n",
       "    <tr>\n",
       "      <th>2</th>\n",
       "      <td>1820-03-01</td>\n",
       "      <td>10.767</td>\n",
       "      <td>2.395</td>\n",
       "      <td>Abilene</td>\n",
       "      <td>United States</td>\n",
       "      <td>32.95N</td>\n",
       "      <td>100.53W</td>\n",
       "    </tr>\n",
       "    <tr>\n",
       "      <th>3</th>\n",
       "      <td>1820-04-01</td>\n",
       "      <td>17.989</td>\n",
       "      <td>2.202</td>\n",
       "      <td>Abilene</td>\n",
       "      <td>United States</td>\n",
       "      <td>32.95N</td>\n",
       "      <td>100.53W</td>\n",
       "    </tr>\n",
       "    <tr>\n",
       "      <th>4</th>\n",
       "      <td>1820-05-01</td>\n",
       "      <td>21.809</td>\n",
       "      <td>2.036</td>\n",
       "      <td>Abilene</td>\n",
       "      <td>United States</td>\n",
       "      <td>32.95N</td>\n",
       "      <td>100.53W</td>\n",
       "    </tr>\n",
       "  </tbody>\n",
       "</table>\n",
       "</div>"
      ],
      "text/plain": [
       "          dt  AverageTemperature  AverageTemperatureUncertainty     City  \\\n",
       "0 1820-01-01               2.101                          3.217  Abilene   \n",
       "1 1820-02-01               6.926                          2.853  Abilene   \n",
       "2 1820-03-01              10.767                          2.395  Abilene   \n",
       "3 1820-04-01              17.989                          2.202  Abilene   \n",
       "4 1820-05-01              21.809                          2.036  Abilene   \n",
       "\n",
       "         Country Latitude Longitude  \n",
       "0  United States   32.95N   100.53W  \n",
       "1  United States   32.95N   100.53W  \n",
       "2  United States   32.95N   100.53W  \n",
       "3  United States   32.95N   100.53W  \n",
       "4  United States   32.95N   100.53W  "
      ]
     },
     "execution_count": 28,
     "metadata": {},
     "output_type": "execute_result"
    }
   ],
   "source": [
    "df_temperature.limit(5).toPandas()"
   ]
  },
  {
   "cell_type": "code",
   "execution_count": 29,
   "metadata": {
    "editable": true
   },
   "outputs": [
    {
     "data": {
      "text/html": [
       "<div>\n",
       "<style scoped>\n",
       "    .dataframe tbody tr th:only-of-type {\n",
       "        vertical-align: middle;\n",
       "    }\n",
       "\n",
       "    .dataframe tbody tr th {\n",
       "        vertical-align: top;\n",
       "    }\n",
       "\n",
       "    .dataframe thead th {\n",
       "        text-align: right;\n",
       "    }\n",
       "</style>\n",
       "<table border=\"1\" class=\"dataframe\">\n",
       "  <thead>\n",
       "    <tr style=\"text-align: right;\">\n",
       "      <th></th>\n",
       "      <th>column_name</th>\n",
       "      <th>missing_count</th>\n",
       "      <th>missing_percentage</th>\n",
       "    </tr>\n",
       "  </thead>\n",
       "  <tbody>\n",
       "    <tr>\n",
       "      <th>0</th>\n",
       "      <td>AverageTemperature</td>\n",
       "      <td>121</td>\n",
       "      <td>2.42</td>\n",
       "    </tr>\n",
       "    <tr>\n",
       "      <th>1</th>\n",
       "      <td>AverageTemperatureUncertainty</td>\n",
       "      <td>121</td>\n",
       "      <td>2.42</td>\n",
       "    </tr>\n",
       "  </tbody>\n",
       "</table>\n",
       "</div>"
      ],
      "text/plain": [
       "                     column_name  missing_count  missing_percentage\n",
       "0             AverageTemperature            121                2.42\n",
       "1  AverageTemperatureUncertainty            121                2.42"
      ]
     },
     "execution_count": 29,
     "metadata": {},
     "output_type": "execute_result"
    }
   ],
   "source": [
    "missing_values_as_df(df_temperature)"
   ]
  },
  {
   "cell_type": "markdown",
   "metadata": {
    "editable": true
   },
   "source": [
    "| Column                        | Description                                |\n",
    "| ----------------------------- | ------------------------------------------ |\n",
    "| dt                            | Date                                       |\n",
    "| AverageTemperature            | Global average land temperature in celsius |\n",
    "| AverageTemperatureUncertainty | 95% confidence interval around the average |\n",
    "| City                          | Name of City                               |\n",
    "| Country                       | Name of Country                            |\n",
    "| Latitude                      | City Latitude                              |\n",
    "| Longitude                     | City Longitude                             |\n"
   ]
  },
  {
   "cell_type": "markdown",
   "metadata": {
    "editable": true
   },
   "source": [
    "##### Clean temperature data set\n",
    "\n",
    "> Drop all rows with missing average temperature\n",
    "\n",
    "> Drop duplicate columns\n"
   ]
  },
  {
   "cell_type": "code",
   "execution_count": 30,
   "metadata": {
    "editable": true
   },
   "outputs": [],
   "source": [
    "df_temperature = wrangle.drop_temperature_nulls_and_duplicates_rows(df_temperature)\n"
   ]
  },
  {
   "cell_type": "code",
   "execution_count": 31,
   "metadata": {
    "editable": true
   },
   "outputs": [
    {
     "data": {
      "text/html": [
       "<div>\n",
       "<style scoped>\n",
       "    .dataframe tbody tr th:only-of-type {\n",
       "        vertical-align: middle;\n",
       "    }\n",
       "\n",
       "    .dataframe tbody tr th {\n",
       "        vertical-align: top;\n",
       "    }\n",
       "\n",
       "    .dataframe thead th {\n",
       "        text-align: right;\n",
       "    }\n",
       "</style>\n",
       "<table border=\"1\" class=\"dataframe\">\n",
       "  <thead>\n",
       "    <tr style=\"text-align: right;\">\n",
       "      <th></th>\n",
       "      <th>dt</th>\n",
       "      <th>AverageTemperature</th>\n",
       "      <th>AverageTemperatureUncertainty</th>\n",
       "      <th>City</th>\n",
       "      <th>Country</th>\n",
       "      <th>Latitude</th>\n",
       "      <th>Longitude</th>\n",
       "    </tr>\n",
       "  </thead>\n",
       "  <tbody>\n",
       "    <tr>\n",
       "      <th>0</th>\n",
       "      <td>1848-12-01</td>\n",
       "      <td>4.274</td>\n",
       "      <td>4.167</td>\n",
       "      <td>Abilene</td>\n",
       "      <td>United States</td>\n",
       "      <td>32.95N</td>\n",
       "      <td>100.53W</td>\n",
       "    </tr>\n",
       "    <tr>\n",
       "      <th>1</th>\n",
       "      <td>1870-07-01</td>\n",
       "      <td>28.283</td>\n",
       "      <td>1.630</td>\n",
       "      <td>Abilene</td>\n",
       "      <td>United States</td>\n",
       "      <td>32.95N</td>\n",
       "      <td>100.53W</td>\n",
       "    </tr>\n",
       "    <tr>\n",
       "      <th>2</th>\n",
       "      <td>1873-12-01</td>\n",
       "      <td>6.623</td>\n",
       "      <td>0.843</td>\n",
       "      <td>Abilene</td>\n",
       "      <td>United States</td>\n",
       "      <td>32.95N</td>\n",
       "      <td>100.53W</td>\n",
       "    </tr>\n",
       "    <tr>\n",
       "      <th>3</th>\n",
       "      <td>1879-12-01</td>\n",
       "      <td>7.300</td>\n",
       "      <td>1.702</td>\n",
       "      <td>Abilene</td>\n",
       "      <td>United States</td>\n",
       "      <td>32.95N</td>\n",
       "      <td>100.53W</td>\n",
       "    </tr>\n",
       "    <tr>\n",
       "      <th>4</th>\n",
       "      <td>1893-07-01</td>\n",
       "      <td>29.273</td>\n",
       "      <td>0.820</td>\n",
       "      <td>Abilene</td>\n",
       "      <td>United States</td>\n",
       "      <td>32.95N</td>\n",
       "      <td>100.53W</td>\n",
       "    </tr>\n",
       "  </tbody>\n",
       "</table>\n",
       "</div>"
      ],
      "text/plain": [
       "          dt  AverageTemperature  AverageTemperatureUncertainty     City  \\\n",
       "0 1848-12-01               4.274                          4.167  Abilene   \n",
       "1 1870-07-01              28.283                          1.630  Abilene   \n",
       "2 1873-12-01               6.623                          0.843  Abilene   \n",
       "3 1879-12-01               7.300                          1.702  Abilene   \n",
       "4 1893-07-01              29.273                          0.820  Abilene   \n",
       "\n",
       "         Country Latitude Longitude  \n",
       "0  United States   32.95N   100.53W  \n",
       "1  United States   32.95N   100.53W  \n",
       "2  United States   32.95N   100.53W  \n",
       "3  United States   32.95N   100.53W  \n",
       "4  United States   32.95N   100.53W  "
      ]
     },
     "execution_count": 31,
     "metadata": {},
     "output_type": "execute_result"
    }
   ],
   "source": [
    "df_temperature.limit(5).toPandas()"
   ]
  },
  {
   "cell_type": "code",
   "execution_count": 32,
   "metadata": {
    "editable": true,
    "scrolled": true
   },
   "outputs": [],
   "source": [
    "# df_temperature_usa = df_temperature[df_temperature[\"Country\"] == \"United States\"]\n",
    "dim_temperature = df_temperature[\n",
    "    [\"dt\", \"AverageTemperature\", \"AverageTemperatureUncertainty\", \"City\", \"Country\"]\n",
    "]\n"
   ]
  },
  {
   "cell_type": "code",
   "execution_count": 33,
   "metadata": {
    "editable": true
   },
   "outputs": [
    {
     "name": "stdout",
     "output_type": "stream",
     "text": [
      "root\n",
      " |-- dt: timestamp (nullable = true)\n",
      " |-- AverageTemperature: double (nullable = true)\n",
      " |-- AverageTemperatureUncertainty: double (nullable = true)\n",
      " |-- City: string (nullable = true)\n",
      " |-- Country: string (nullable = true)\n",
      "\n"
     ]
    }
   ],
   "source": [
    "dim_temperature.printSchema()"
   ]
  },
  {
   "cell_type": "code",
   "execution_count": 34,
   "metadata": {
    "editable": true
   },
   "outputs": [
    {
     "data": {
      "text/html": [
       "<div>\n",
       "<style scoped>\n",
       "    .dataframe tbody tr th:only-of-type {\n",
       "        vertical-align: middle;\n",
       "    }\n",
       "\n",
       "    .dataframe tbody tr th {\n",
       "        vertical-align: top;\n",
       "    }\n",
       "\n",
       "    .dataframe thead th {\n",
       "        text-align: right;\n",
       "    }\n",
       "</style>\n",
       "<table border=\"1\" class=\"dataframe\">\n",
       "  <thead>\n",
       "    <tr style=\"text-align: right;\">\n",
       "      <th></th>\n",
       "      <th>dt</th>\n",
       "      <th>AverageTemperature</th>\n",
       "      <th>AverageTemperatureUncertainty</th>\n",
       "      <th>City</th>\n",
       "      <th>Country</th>\n",
       "    </tr>\n",
       "  </thead>\n",
       "  <tbody>\n",
       "    <tr>\n",
       "      <th>0</th>\n",
       "      <td>1848-12-01</td>\n",
       "      <td>4.274</td>\n",
       "      <td>4.167</td>\n",
       "      <td>Abilene</td>\n",
       "      <td>United States</td>\n",
       "    </tr>\n",
       "    <tr>\n",
       "      <th>1</th>\n",
       "      <td>1870-07-01</td>\n",
       "      <td>28.283</td>\n",
       "      <td>1.630</td>\n",
       "      <td>Abilene</td>\n",
       "      <td>United States</td>\n",
       "    </tr>\n",
       "    <tr>\n",
       "      <th>2</th>\n",
       "      <td>1873-12-01</td>\n",
       "      <td>6.623</td>\n",
       "      <td>0.843</td>\n",
       "      <td>Abilene</td>\n",
       "      <td>United States</td>\n",
       "    </tr>\n",
       "    <tr>\n",
       "      <th>3</th>\n",
       "      <td>1879-12-01</td>\n",
       "      <td>7.300</td>\n",
       "      <td>1.702</td>\n",
       "      <td>Abilene</td>\n",
       "      <td>United States</td>\n",
       "    </tr>\n",
       "    <tr>\n",
       "      <th>4</th>\n",
       "      <td>1893-07-01</td>\n",
       "      <td>29.273</td>\n",
       "      <td>0.820</td>\n",
       "      <td>Abilene</td>\n",
       "      <td>United States</td>\n",
       "    </tr>\n",
       "  </tbody>\n",
       "</table>\n",
       "</div>"
      ],
      "text/plain": [
       "          dt  AverageTemperature  AverageTemperatureUncertainty     City  \\\n",
       "0 1848-12-01               4.274                          4.167  Abilene   \n",
       "1 1870-07-01              28.283                          1.630  Abilene   \n",
       "2 1873-12-01               6.623                          0.843  Abilene   \n",
       "3 1879-12-01               7.300                          1.702  Abilene   \n",
       "4 1893-07-01              29.273                          0.820  Abilene   \n",
       "\n",
       "         Country  \n",
       "0  United States  \n",
       "1  United States  \n",
       "2  United States  \n",
       "3  United States  \n",
       "4  United States  "
      ]
     },
     "execution_count": 34,
     "metadata": {},
     "output_type": "execute_result"
    }
   ],
   "source": [
    "dim_temperature.limit(5).toPandas()"
   ]
  },
  {
   "cell_type": "code",
   "execution_count": 35,
   "metadata": {
    "editable": true
   },
   "outputs": [
    {
     "data": {
      "text/html": [
       "<div>\n",
       "<style scoped>\n",
       "    .dataframe tbody tr th:only-of-type {\n",
       "        vertical-align: middle;\n",
       "    }\n",
       "\n",
       "    .dataframe tbody tr th {\n",
       "        vertical-align: top;\n",
       "    }\n",
       "\n",
       "    .dataframe thead th {\n",
       "        text-align: right;\n",
       "    }\n",
       "</style>\n",
       "<table border=\"1\" class=\"dataframe\">\n",
       "  <thead>\n",
       "    <tr style=\"text-align: right;\">\n",
       "      <th></th>\n",
       "      <th>dt</th>\n",
       "      <th>avg_temp</th>\n",
       "      <th>avg_temp_uncertainty</th>\n",
       "      <th>city</th>\n",
       "      <th>country</th>\n",
       "      <th>year</th>\n",
       "      <th>month</th>\n",
       "    </tr>\n",
       "  </thead>\n",
       "  <tbody>\n",
       "    <tr>\n",
       "      <th>0</th>\n",
       "      <td>1848-12-01</td>\n",
       "      <td>4.274000</td>\n",
       "      <td>4.167</td>\n",
       "      <td>ABILENE</td>\n",
       "      <td>UNITED STATES</td>\n",
       "      <td>1848</td>\n",
       "      <td>12</td>\n",
       "    </tr>\n",
       "    <tr>\n",
       "      <th>1</th>\n",
       "      <td>1870-07-01</td>\n",
       "      <td>28.283001</td>\n",
       "      <td>1.630</td>\n",
       "      <td>ABILENE</td>\n",
       "      <td>UNITED STATES</td>\n",
       "      <td>1870</td>\n",
       "      <td>7</td>\n",
       "    </tr>\n",
       "    <tr>\n",
       "      <th>2</th>\n",
       "      <td>1873-12-01</td>\n",
       "      <td>6.623000</td>\n",
       "      <td>0.843</td>\n",
       "      <td>ABILENE</td>\n",
       "      <td>UNITED STATES</td>\n",
       "      <td>1873</td>\n",
       "      <td>12</td>\n",
       "    </tr>\n",
       "    <tr>\n",
       "      <th>3</th>\n",
       "      <td>1879-12-01</td>\n",
       "      <td>7.300000</td>\n",
       "      <td>1.702</td>\n",
       "      <td>ABILENE</td>\n",
       "      <td>UNITED STATES</td>\n",
       "      <td>1879</td>\n",
       "      <td>12</td>\n",
       "    </tr>\n",
       "    <tr>\n",
       "      <th>4</th>\n",
       "      <td>1893-07-01</td>\n",
       "      <td>29.273001</td>\n",
       "      <td>0.820</td>\n",
       "      <td>ABILENE</td>\n",
       "      <td>UNITED STATES</td>\n",
       "      <td>1893</td>\n",
       "      <td>7</td>\n",
       "    </tr>\n",
       "  </tbody>\n",
       "</table>\n",
       "</div>"
      ],
      "text/plain": [
       "          dt   avg_temp  avg_temp_uncertainty     city        country  year  \\\n",
       "0 1848-12-01   4.274000                 4.167  ABILENE  UNITED STATES  1848   \n",
       "1 1870-07-01  28.283001                 1.630  ABILENE  UNITED STATES  1870   \n",
       "2 1873-12-01   6.623000                 0.843  ABILENE  UNITED STATES  1873   \n",
       "3 1879-12-01   7.300000                 1.702  ABILENE  UNITED STATES  1879   \n",
       "4 1893-07-01  29.273001                 0.820  ABILENE  UNITED STATES  1893   \n",
       "\n",
       "   month  \n",
       "0     12  \n",
       "1      7  \n",
       "2     12  \n",
       "3     12  \n",
       "4      7  "
      ]
     },
     "execution_count": 35,
     "metadata": {},
     "output_type": "execute_result"
    }
   ],
   "source": [
    "dim_temperature = wrangle.dim_temperature(dim_temperature)\n",
    "dim_temperature.limit(5).toPandas()\n"
   ]
  },
  {
   "cell_type": "code",
   "execution_count": 36,
   "metadata": {
    "editable": true
   },
   "outputs": [
    {
     "name": "stdout",
     "output_type": "stream",
     "text": [
      "root\n",
      " |-- dt: timestamp (nullable = true)\n",
      " |-- avg_temp: float (nullable = true)\n",
      " |-- avg_temp_uncertainty: float (nullable = true)\n",
      " |-- city: string (nullable = true)\n",
      " |-- country: string (nullable = true)\n",
      " |-- year: integer (nullable = true)\n",
      " |-- month: integer (nullable = true)\n",
      "\n"
     ]
    }
   ],
   "source": [
    "dim_temperature.createOrReplaceTempView(\"dim_temperature\")\n",
    "dim_temperature.printSchema()"
   ]
  },
  {
   "cell_type": "code",
   "execution_count": 37,
   "metadata": {
    "editable": true
   },
   "outputs": [
    {
     "name": "stdout",
     "output_type": "stream",
     "text": [
      "+-------------------+--------+--------------------+-------+-------------+----+-----+\n",
      "|                 dt|avg_temp|avg_temp_uncertainty|   city|      country|year|month|\n",
      "+-------------------+--------+--------------------+-------+-------------+----+-----+\n",
      "|1848-12-01 00:00:00|   4.274|               4.167|ABILENE|UNITED STATES|1848|   12|\n",
      "|1870-07-01 00:00:00|  28.283|                1.63|ABILENE|UNITED STATES|1870|    7|\n",
      "|1873-12-01 00:00:00|   6.623|               0.843|ABILENE|UNITED STATES|1873|   12|\n",
      "|1879-12-01 00:00:00|     7.3|               1.702|ABILENE|UNITED STATES|1879|   12|\n",
      "|1893-07-01 00:00:00|  29.273|                0.82|ABILENE|UNITED STATES|1893|    7|\n",
      "|1903-01-01 00:00:00|   5.756|               0.749|ABILENE|UNITED STATES|1903|    1|\n",
      "|1931-06-01 00:00:00|  26.742|               0.362|ABILENE|UNITED STATES|1931|    6|\n",
      "|1979-08-01 00:00:00|  26.237|               0.223|ABILENE|UNITED STATES|1979|    8|\n",
      "|2003-08-01 00:00:00|  29.062|               0.354|ABILENE|UNITED STATES|2003|    8|\n",
      "|2007-09-01 00:00:00|  24.615|               0.363|ABILENE|UNITED STATES|2007|    9|\n",
      "+-------------------+--------+--------------------+-------+-------------+----+-----+\n",
      "\n"
     ]
    }
   ],
   "source": [
    "spark.sql(\"select * from dim_temperature limit 10\").show()"
   ]
  },
  {
   "cell_type": "markdown",
   "metadata": {
    "editable": true
   },
   "source": [
    "#### Explore demography data set\n"
   ]
  },
  {
   "cell_type": "code",
   "execution_count": 38,
   "metadata": {
    "editable": true
   },
   "outputs": [],
   "source": [
    "file_path = \"sample_data/us-cities-demographics.csv\"\n",
    "df_demog = spark.read.csv(file_path, header=True, inferSchema=True, sep=\";\")\n"
   ]
  },
  {
   "cell_type": "code",
   "execution_count": 39,
   "metadata": {
    "editable": true
   },
   "outputs": [
    {
     "data": {
      "text/plain": [
       "['City',\n",
       " 'State',\n",
       " 'Median Age',\n",
       " 'Male Population',\n",
       " 'Female Population',\n",
       " 'Total Population',\n",
       " 'Number of Veterans',\n",
       " 'Foreign-born',\n",
       " 'Average Household Size',\n",
       " 'State Code',\n",
       " 'Race',\n",
       " 'Count']"
      ]
     },
     "execution_count": 39,
     "metadata": {},
     "output_type": "execute_result"
    }
   ],
   "source": [
    "df_demog.columns\n"
   ]
  },
  {
   "cell_type": "markdown",
   "metadata": {
    "editable": true
   },
   "source": [
    "| Column                 | Description                                                   |\n",
    "| ---------------------- | ------------------------------------------------------------- |\n",
    "| City                   | City Name                                                     |\n",
    "| State                  | US State where city is located                                |\n",
    "| Median Age             | Median age of the population                                  |\n",
    "| Male Population        | Count of male population                                      |\n",
    "| Female Population      | Count of female population                                    |\n",
    "| Total Population       | Count of total population                                     |\n",
    "| Number of Veterans     | Count of total Veterans                                       |\n",
    "| Foreign born           | Count of residents of the city that were not born in the city |\n",
    "| Average Household Size | Average city household size                                   |\n",
    "| State Code             | Code of the US state                                          |\n",
    "| Race                   | Respondent race                                               |\n",
    "| Count                  | Count of city's individual per race                           |\n"
   ]
  },
  {
   "cell_type": "code",
   "execution_count": 40,
   "metadata": {
    "editable": true
   },
   "outputs": [
    {
     "data": {
      "text/html": [
       "<div>\n",
       "<style scoped>\n",
       "    .dataframe tbody tr th:only-of-type {\n",
       "        vertical-align: middle;\n",
       "    }\n",
       "\n",
       "    .dataframe tbody tr th {\n",
       "        vertical-align: top;\n",
       "    }\n",
       "\n",
       "    .dataframe thead th {\n",
       "        text-align: right;\n",
       "    }\n",
       "</style>\n",
       "<table border=\"1\" class=\"dataframe\">\n",
       "  <thead>\n",
       "    <tr style=\"text-align: right;\">\n",
       "      <th></th>\n",
       "      <th>City</th>\n",
       "      <th>State</th>\n",
       "      <th>Median Age</th>\n",
       "      <th>Male Population</th>\n",
       "      <th>Female Population</th>\n",
       "      <th>Total Population</th>\n",
       "      <th>Number of Veterans</th>\n",
       "      <th>Foreign-born</th>\n",
       "      <th>Average Household Size</th>\n",
       "      <th>State Code</th>\n",
       "      <th>Race</th>\n",
       "      <th>Count</th>\n",
       "    </tr>\n",
       "  </thead>\n",
       "  <tbody>\n",
       "    <tr>\n",
       "      <th>0</th>\n",
       "      <td>Silver Spring</td>\n",
       "      <td>Maryland</td>\n",
       "      <td>33.8</td>\n",
       "      <td>40601</td>\n",
       "      <td>41862</td>\n",
       "      <td>82463</td>\n",
       "      <td>1562</td>\n",
       "      <td>30908</td>\n",
       "      <td>2.60</td>\n",
       "      <td>MD</td>\n",
       "      <td>Hispanic or Latino</td>\n",
       "      <td>25924</td>\n",
       "    </tr>\n",
       "    <tr>\n",
       "      <th>1</th>\n",
       "      <td>Quincy</td>\n",
       "      <td>Massachusetts</td>\n",
       "      <td>41.0</td>\n",
       "      <td>44129</td>\n",
       "      <td>49500</td>\n",
       "      <td>93629</td>\n",
       "      <td>4147</td>\n",
       "      <td>32935</td>\n",
       "      <td>2.39</td>\n",
       "      <td>MA</td>\n",
       "      <td>White</td>\n",
       "      <td>58723</td>\n",
       "    </tr>\n",
       "    <tr>\n",
       "      <th>2</th>\n",
       "      <td>Hoover</td>\n",
       "      <td>Alabama</td>\n",
       "      <td>38.5</td>\n",
       "      <td>38040</td>\n",
       "      <td>46799</td>\n",
       "      <td>84839</td>\n",
       "      <td>4819</td>\n",
       "      <td>8229</td>\n",
       "      <td>2.58</td>\n",
       "      <td>AL</td>\n",
       "      <td>Asian</td>\n",
       "      <td>4759</td>\n",
       "    </tr>\n",
       "    <tr>\n",
       "      <th>3</th>\n",
       "      <td>Rancho Cucamonga</td>\n",
       "      <td>California</td>\n",
       "      <td>34.5</td>\n",
       "      <td>88127</td>\n",
       "      <td>87105</td>\n",
       "      <td>175232</td>\n",
       "      <td>5821</td>\n",
       "      <td>33878</td>\n",
       "      <td>3.18</td>\n",
       "      <td>CA</td>\n",
       "      <td>Black or African-American</td>\n",
       "      <td>24437</td>\n",
       "    </tr>\n",
       "    <tr>\n",
       "      <th>4</th>\n",
       "      <td>Newark</td>\n",
       "      <td>New Jersey</td>\n",
       "      <td>34.6</td>\n",
       "      <td>138040</td>\n",
       "      <td>143873</td>\n",
       "      <td>281913</td>\n",
       "      <td>5829</td>\n",
       "      <td>86253</td>\n",
       "      <td>2.73</td>\n",
       "      <td>NJ</td>\n",
       "      <td>White</td>\n",
       "      <td>76402</td>\n",
       "    </tr>\n",
       "  </tbody>\n",
       "</table>\n",
       "</div>"
      ],
      "text/plain": [
       "               City          State  Median Age  Male Population  \\\n",
       "0     Silver Spring       Maryland        33.8            40601   \n",
       "1            Quincy  Massachusetts        41.0            44129   \n",
       "2            Hoover        Alabama        38.5            38040   \n",
       "3  Rancho Cucamonga     California        34.5            88127   \n",
       "4            Newark     New Jersey        34.6           138040   \n",
       "\n",
       "   Female Population  Total Population  Number of Veterans  Foreign-born  \\\n",
       "0              41862             82463                1562         30908   \n",
       "1              49500             93629                4147         32935   \n",
       "2              46799             84839                4819          8229   \n",
       "3              87105            175232                5821         33878   \n",
       "4             143873            281913                5829         86253   \n",
       "\n",
       "   Average Household Size State Code                       Race  Count  \n",
       "0                    2.60         MD         Hispanic or Latino  25924  \n",
       "1                    2.39         MA                      White  58723  \n",
       "2                    2.58         AL                      Asian   4759  \n",
       "3                    3.18         CA  Black or African-American  24437  \n",
       "4                    2.73         NJ                      White  76402  "
      ]
     },
     "execution_count": 40,
     "metadata": {},
     "output_type": "execute_result"
    }
   ],
   "source": [
    "df_demog.limit(5).toPandas()\n"
   ]
  },
  {
   "cell_type": "markdown",
   "metadata": {
    "editable": true
   },
   "source": [
    "#### Clean demography data set\n",
    "\n",
    "> Drop duplicate columns\n",
    "\n",
    "> drop rows with missing values\n",
    "\n",
    "> Parse I94_SAS_Labels_Descriptions.SAS file to get auxiliary dimension table - country_code, city_code, state_code\n"
   ]
  },
  {
   "cell_type": "code",
   "execution_count": 41,
   "metadata": {
    "editable": true
   },
   "outputs": [],
   "source": [
    "df_demog = wrangle.drop_demographics_nulls_and_duplicates_rows(df_demog)\n"
   ]
  },
  {
   "cell_type": "code",
   "execution_count": 42,
   "metadata": {
    "editable": true
   },
   "outputs": [],
   "source": [
    "dim_demog_population = df_demog[\n",
    "    [\n",
    "        \"City\",\n",
    "        \"State\",\n",
    "        \"Male Population\",\n",
    "        \"Female Population\",\n",
    "        \"Number of Veterans\",\n",
    "        \"Foreign-born\",\n",
    "        \"Race\",\n",
    "    ]\n",
    "]\n"
   ]
  },
  {
   "cell_type": "code",
   "execution_count": 43,
   "metadata": {
    "editable": true
   },
   "outputs": [
    {
     "data": {
      "text/html": [
       "<div>\n",
       "<style scoped>\n",
       "    .dataframe tbody tr th:only-of-type {\n",
       "        vertical-align: middle;\n",
       "    }\n",
       "\n",
       "    .dataframe tbody tr th {\n",
       "        vertical-align: top;\n",
       "    }\n",
       "\n",
       "    .dataframe thead th {\n",
       "        text-align: right;\n",
       "    }\n",
       "</style>\n",
       "<table border=\"1\" class=\"dataframe\">\n",
       "  <thead>\n",
       "    <tr style=\"text-align: right;\">\n",
       "      <th></th>\n",
       "      <th>city</th>\n",
       "      <th>state</th>\n",
       "      <th>male_population</th>\n",
       "      <th>female_population</th>\n",
       "      <th>num_veterans</th>\n",
       "      <th>foreign_born</th>\n",
       "      <th>race</th>\n",
       "      <th>demog_pop_id</th>\n",
       "    </tr>\n",
       "  </thead>\n",
       "  <tbody>\n",
       "    <tr>\n",
       "      <th>0</th>\n",
       "      <td>Quincy</td>\n",
       "      <td>Massachusetts</td>\n",
       "      <td>44129</td>\n",
       "      <td>49500</td>\n",
       "      <td>4147</td>\n",
       "      <td>32935</td>\n",
       "      <td>White</td>\n",
       "      <td>0</td>\n",
       "    </tr>\n",
       "    <tr>\n",
       "      <th>1</th>\n",
       "      <td>Wilmington</td>\n",
       "      <td>North Carolina</td>\n",
       "      <td>52346</td>\n",
       "      <td>63601</td>\n",
       "      <td>5908</td>\n",
       "      <td>7401</td>\n",
       "      <td>Asian</td>\n",
       "      <td>1</td>\n",
       "    </tr>\n",
       "    <tr>\n",
       "      <th>2</th>\n",
       "      <td>Tampa</td>\n",
       "      <td>Florida</td>\n",
       "      <td>175517</td>\n",
       "      <td>193511</td>\n",
       "      <td>20636</td>\n",
       "      <td>58795</td>\n",
       "      <td>Hispanic or Latino</td>\n",
       "      <td>2</td>\n",
       "    </tr>\n",
       "    <tr>\n",
       "      <th>3</th>\n",
       "      <td>Gastonia</td>\n",
       "      <td>North Carolina</td>\n",
       "      <td>35527</td>\n",
       "      <td>39023</td>\n",
       "      <td>3537</td>\n",
       "      <td>5715</td>\n",
       "      <td>Asian</td>\n",
       "      <td>3</td>\n",
       "    </tr>\n",
       "    <tr>\n",
       "      <th>4</th>\n",
       "      <td>Tyler</td>\n",
       "      <td>Texas</td>\n",
       "      <td>50422</td>\n",
       "      <td>53283</td>\n",
       "      <td>4813</td>\n",
       "      <td>8225</td>\n",
       "      <td>American Indian and Alaska Native</td>\n",
       "      <td>4</td>\n",
       "    </tr>\n",
       "  </tbody>\n",
       "</table>\n",
       "</div>"
      ],
      "text/plain": [
       "         city           state  male_population  female_population  \\\n",
       "0      Quincy   Massachusetts            44129              49500   \n",
       "1  Wilmington  North Carolina            52346              63601   \n",
       "2       Tampa         Florida           175517             193511   \n",
       "3    Gastonia  North Carolina            35527              39023   \n",
       "4       Tyler           Texas            50422              53283   \n",
       "\n",
       "   num_veterans  foreign_born                               race  demog_pop_id  \n",
       "0          4147         32935                              White             0  \n",
       "1          5908          7401                              Asian             1  \n",
       "2         20636         58795                 Hispanic or Latino             2  \n",
       "3          3537          5715                              Asian             3  \n",
       "4          4813          8225  American Indian and Alaska Native             4  "
      ]
     },
     "execution_count": 43,
     "metadata": {},
     "output_type": "execute_result"
    }
   ],
   "source": [
    "dim_demog_population = wrangle.dim_demog_population(dim_demog_population)\n",
    "dim_demog_population.limit(5).toPandas()\n"
   ]
  },
  {
   "cell_type": "code",
   "execution_count": 44,
   "metadata": {
    "editable": true
   },
   "outputs": [
    {
     "name": "stdout",
     "output_type": "stream",
     "text": [
      "root\n",
      " |-- city: string (nullable = true)\n",
      " |-- state: string (nullable = true)\n",
      " |-- male_population: integer (nullable = true)\n",
      " |-- female_population: integer (nullable = true)\n",
      " |-- num_veterans: integer (nullable = true)\n",
      " |-- foreign_born: integer (nullable = true)\n",
      " |-- race: string (nullable = true)\n",
      " |-- demog_pop_id: integer (nullable = false)\n",
      "\n"
     ]
    }
   ],
   "source": [
    "dim_demog_population.createOrReplaceTempView(\"dim_demog_population\")\n",
    "dim_demog_population.printSchema()"
   ]
  },
  {
   "cell_type": "code",
   "execution_count": 45,
   "metadata": {
    "editable": true
   },
   "outputs": [
    {
     "name": "stdout",
     "output_type": "stream",
     "text": [
      "+------------+--------------+---------------+-----------------+------------+------------+--------------------+------------+\n",
      "|        city|         state|male_population|female_population|num_veterans|foreign_born|                race|demog_pop_id|\n",
      "+------------+--------------+---------------+-----------------+------------+------------+--------------------+------------+\n",
      "|      Quincy| Massachusetts|          44129|            49500|        4147|       32935|               White|           0|\n",
      "|  Wilmington|North Carolina|          52346|            63601|        5908|        7401|               Asian|           1|\n",
      "|       Tampa|       Florida|         175517|           193511|       20636|       58795|  Hispanic or Latino|           2|\n",
      "|    Gastonia|North Carolina|          35527|            39023|        3537|        5715|               Asian|           3|\n",
      "|       Tyler|         Texas|          50422|            53283|        4813|        8225|American Indian a...|           4|\n",
      "|      Rialto|    California|          49902|            53235|        2036|       32741|Black or African-...|           5|\n",
      "|       Sandy|          Utah|          46923|            46689|        3451|        6691|American Indian a...|           6|\n",
      "|Arden-Arcade|    California|          47596|            48680|        6511|       13458|Black or African-...|           7|\n",
      "|      Upland|    California|          36226|            40221|        2898|       16552|Black or African-...|           8|\n",
      "|  Cape Coral|       Florida|          85626|            89604|       14446|       24185|Black or African-...|           9|\n",
      "+------------+--------------+---------------+-----------------+------------+------------+--------------------+------------+\n",
      "\n"
     ]
    }
   ],
   "source": [
    "spark.sql(\"select * from dim_demog_population limit 10 \").show()"
   ]
  },
  {
   "cell_type": "code",
   "execution_count": 46,
   "metadata": {
    "editable": true
   },
   "outputs": [],
   "source": [
    "dim_demog_statistics = df_demog[\n",
    "    [\"City\", \"State\", \"Median Age\", \"Average Household Size\"]\n",
    "]\n"
   ]
  },
  {
   "cell_type": "code",
   "execution_count": 47,
   "metadata": {
    "editable": true
   },
   "outputs": [
    {
     "data": {
      "text/html": [
       "<div>\n",
       "<style scoped>\n",
       "    .dataframe tbody tr th:only-of-type {\n",
       "        vertical-align: middle;\n",
       "    }\n",
       "\n",
       "    .dataframe tbody tr th {\n",
       "        vertical-align: top;\n",
       "    }\n",
       "\n",
       "    .dataframe thead th {\n",
       "        text-align: right;\n",
       "    }\n",
       "</style>\n",
       "<table border=\"1\" class=\"dataframe\">\n",
       "  <thead>\n",
       "    <tr style=\"text-align: right;\">\n",
       "      <th></th>\n",
       "      <th>city</th>\n",
       "      <th>state</th>\n",
       "      <th>median_age</th>\n",
       "      <th>avg_household_size</th>\n",
       "      <th>demog_stat_id</th>\n",
       "    </tr>\n",
       "  </thead>\n",
       "  <tbody>\n",
       "    <tr>\n",
       "      <th>0</th>\n",
       "      <td>QUINCY</td>\n",
       "      <td>MASSACHUSETTS</td>\n",
       "      <td>41</td>\n",
       "      <td>2.39</td>\n",
       "      <td>0</td>\n",
       "    </tr>\n",
       "    <tr>\n",
       "      <th>1</th>\n",
       "      <td>WILMINGTON</td>\n",
       "      <td>NORTH CAROLINA</td>\n",
       "      <td>35</td>\n",
       "      <td>2.24</td>\n",
       "      <td>1</td>\n",
       "    </tr>\n",
       "    <tr>\n",
       "      <th>2</th>\n",
       "      <td>TAMPA</td>\n",
       "      <td>FLORIDA</td>\n",
       "      <td>35</td>\n",
       "      <td>2.47</td>\n",
       "      <td>2</td>\n",
       "    </tr>\n",
       "    <tr>\n",
       "      <th>3</th>\n",
       "      <td>GASTONIA</td>\n",
       "      <td>NORTH CAROLINA</td>\n",
       "      <td>36</td>\n",
       "      <td>2.67</td>\n",
       "      <td>3</td>\n",
       "    </tr>\n",
       "    <tr>\n",
       "      <th>4</th>\n",
       "      <td>TYLER</td>\n",
       "      <td>TEXAS</td>\n",
       "      <td>33</td>\n",
       "      <td>2.59</td>\n",
       "      <td>4</td>\n",
       "    </tr>\n",
       "  </tbody>\n",
       "</table>\n",
       "</div>"
      ],
      "text/plain": [
       "         city           state  median_age  avg_household_size  demog_stat_id\n",
       "0      QUINCY   MASSACHUSETTS          41                2.39              0\n",
       "1  WILMINGTON  NORTH CAROLINA          35                2.24              1\n",
       "2       TAMPA         FLORIDA          35                2.47              2\n",
       "3    GASTONIA  NORTH CAROLINA          36                2.67              3\n",
       "4       TYLER           TEXAS          33                2.59              4"
      ]
     },
     "execution_count": 47,
     "metadata": {},
     "output_type": "execute_result"
    }
   ],
   "source": [
    "dim_demog_statistics = wrangle.dim_demog_statistics(dim_demog_statistics)\n",
    "dim_demog_statistics.limit(5).toPandas()\n"
   ]
  },
  {
   "cell_type": "code",
   "execution_count": 48,
   "metadata": {
    "editable": true
   },
   "outputs": [
    {
     "name": "stdout",
     "output_type": "stream",
     "text": [
      "root\n",
      " |-- city: string (nullable = true)\n",
      " |-- state: string (nullable = true)\n",
      " |-- median_age: integer (nullable = true)\n",
      " |-- avg_household_size: float (nullable = true)\n",
      " |-- demog_stat_id: integer (nullable = false)\n",
      "\n"
     ]
    }
   ],
   "source": [
    "dim_demog_statistics.createOrReplaceTempView(\"dim_demog_statistics\")\n",
    "dim_demog_statistics.printSchema()"
   ]
  },
  {
   "cell_type": "code",
   "execution_count": 49,
   "metadata": {
    "editable": true
   },
   "outputs": [
    {
     "name": "stdout",
     "output_type": "stream",
     "text": [
      "+------------+--------------+----------+------------------+-------------+\n",
      "|        city|         state|median_age|avg_household_size|demog_stat_id|\n",
      "+------------+--------------+----------+------------------+-------------+\n",
      "|      QUINCY| MASSACHUSETTS|        41|              2.39|            0|\n",
      "|  WILMINGTON|NORTH CAROLINA|        35|              2.24|            1|\n",
      "|       TAMPA|       FLORIDA|        35|              2.47|            2|\n",
      "|    GASTONIA|NORTH CAROLINA|        36|              2.67|            3|\n",
      "|       TYLER|         TEXAS|        33|              2.59|            4|\n",
      "|      RIALTO|    CALIFORNIA|        31|              3.83|            5|\n",
      "|       SANDY|          UTAH|        34|              3.22|            6|\n",
      "|ARDEN-ARCADE|    CALIFORNIA|        41|              2.18|            7|\n",
      "|      UPLAND|    CALIFORNIA|        39|              2.77|            8|\n",
      "|  CAPE CORAL|       FLORIDA|        45|              2.85|            9|\n",
      "+------------+--------------+----------+------------------+-------------+\n",
      "\n"
     ]
    }
   ],
   "source": [
    "spark.sql(\"select * from dim_demog_statistics limit 10 \").show()"
   ]
  },
  {
   "cell_type": "code",
   "execution_count": 50,
   "metadata": {
    "editable": true
   },
   "outputs": [],
   "source": [
    "with open(\"I94_SAS_Labels_Descriptions.SAS\") as file:\n",
    "    contents = file.readlines()\n"
   ]
  },
  {
   "cell_type": "code",
   "execution_count": 51,
   "metadata": {
    "editable": true
   },
   "outputs": [],
   "source": [
    "country_code = wrangle.country_code(contents)\n"
   ]
  },
  {
   "cell_type": "code",
   "execution_count": 52,
   "metadata": {
    "editable": true
   },
   "outputs": [
    {
     "data": {
      "text/html": [
       "<div>\n",
       "<style scoped>\n",
       "    .dataframe tbody tr th:only-of-type {\n",
       "        vertical-align: middle;\n",
       "    }\n",
       "\n",
       "    .dataframe tbody tr th {\n",
       "        vertical-align: top;\n",
       "    }\n",
       "\n",
       "    .dataframe thead th {\n",
       "        text-align: right;\n",
       "    }\n",
       "</style>\n",
       "<table border=\"1\" class=\"dataframe\">\n",
       "  <thead>\n",
       "    <tr style=\"text-align: right;\">\n",
       "      <th></th>\n",
       "      <th>code</th>\n",
       "      <th>country</th>\n",
       "    </tr>\n",
       "  </thead>\n",
       "  <tbody>\n",
       "    <tr>\n",
       "      <th>0</th>\n",
       "      <td>236</td>\n",
       "      <td>AFGHANISTAN</td>\n",
       "    </tr>\n",
       "    <tr>\n",
       "      <th>1</th>\n",
       "      <td>101</td>\n",
       "      <td>ALBANIA</td>\n",
       "    </tr>\n",
       "    <tr>\n",
       "      <th>2</th>\n",
       "      <td>316</td>\n",
       "      <td>ALGERIA</td>\n",
       "    </tr>\n",
       "    <tr>\n",
       "      <th>3</th>\n",
       "      <td>102</td>\n",
       "      <td>ANDORRA</td>\n",
       "    </tr>\n",
       "    <tr>\n",
       "      <th>4</th>\n",
       "      <td>324</td>\n",
       "      <td>ANGOLA</td>\n",
       "    </tr>\n",
       "  </tbody>\n",
       "</table>\n",
       "</div>"
      ],
      "text/plain": [
       "  code      country\n",
       "0  236  AFGHANISTAN\n",
       "1  101      ALBANIA\n",
       "2  316      ALGERIA\n",
       "3  102      ANDORRA\n",
       "4  324       ANGOLA"
      ]
     },
     "execution_count": 52,
     "metadata": {},
     "output_type": "execute_result"
    }
   ],
   "source": [
    "df_country_code = spark.createDataFrame(\n",
    "    data=list(country_code.items()), schema=[\"code\", \"country\"]\n",
    ")\n",
    "df_country_code.limit(5).toPandas()\n"
   ]
  },
  {
   "cell_type": "code",
   "execution_count": 53,
   "metadata": {
    "editable": true
   },
   "outputs": [
    {
     "name": "stdout",
     "output_type": "stream",
     "text": [
      "root\n",
      " |-- code: string (nullable = true)\n",
      " |-- country: string (nullable = true)\n",
      "\n"
     ]
    }
   ],
   "source": [
    "df_country_code.createOrReplaceTempView(\"country_code\")\n",
    "df_country_code.printSchema()"
   ]
  },
  {
   "cell_type": "code",
   "execution_count": 54,
   "metadata": {
    "editable": true
   },
   "outputs": [
    {
     "name": "stdout",
     "output_type": "stream",
     "text": [
      "+----+---------------+\n",
      "|code|        country|\n",
      "+----+---------------+\n",
      "| 236|    AFGHANISTAN|\n",
      "| 101|        ALBANIA|\n",
      "| 316|        ALGERIA|\n",
      "| 102|        ANDORRA|\n",
      "| 324|         ANGOLA|\n",
      "| 529|       ANGUILLA|\n",
      "| 518|ANTIGUA-BARBUDA|\n",
      "| 687|     ARGENTINA |\n",
      "| 151|        ARMENIA|\n",
      "| 532|          ARUBA|\n",
      "+----+---------------+\n",
      "\n"
     ]
    }
   ],
   "source": [
    "spark.sql(\"select * from country_code limit 10 \").show()"
   ]
  },
  {
   "cell_type": "code",
   "execution_count": 55,
   "metadata": {
    "editable": true
   },
   "outputs": [],
   "source": [
    "city_code = wrangle.city_code(contents)\n"
   ]
  },
  {
   "cell_type": "code",
   "execution_count": 56,
   "metadata": {
    "editable": true
   },
   "outputs": [
    {
     "data": {
      "text/html": [
       "<div>\n",
       "<style scoped>\n",
       "    .dataframe tbody tr th:only-of-type {\n",
       "        vertical-align: middle;\n",
       "    }\n",
       "\n",
       "    .dataframe tbody tr th {\n",
       "        vertical-align: top;\n",
       "    }\n",
       "\n",
       "    .dataframe thead th {\n",
       "        text-align: right;\n",
       "    }\n",
       "</style>\n",
       "<table border=\"1\" class=\"dataframe\">\n",
       "  <thead>\n",
       "    <tr style=\"text-align: right;\">\n",
       "      <th></th>\n",
       "      <th>code</th>\n",
       "      <th>city</th>\n",
       "    </tr>\n",
       "  </thead>\n",
       "  <tbody>\n",
       "    <tr>\n",
       "      <th>0</th>\n",
       "      <td>ANC</td>\n",
       "      <td>ANCHORAGE</td>\n",
       "    </tr>\n",
       "    <tr>\n",
       "      <th>1</th>\n",
       "      <td>BAR</td>\n",
       "      <td>BAKER AAF - BAKER ISLAND</td>\n",
       "    </tr>\n",
       "    <tr>\n",
       "      <th>2</th>\n",
       "      <td>DAC</td>\n",
       "      <td>DALTONS CACHE</td>\n",
       "    </tr>\n",
       "    <tr>\n",
       "      <th>3</th>\n",
       "      <td>PIZ</td>\n",
       "      <td>DEW STATION PT LAY DEW</td>\n",
       "    </tr>\n",
       "    <tr>\n",
       "      <th>4</th>\n",
       "      <td>DTH</td>\n",
       "      <td>DUTCH HARBOR</td>\n",
       "    </tr>\n",
       "  </tbody>\n",
       "</table>\n",
       "</div>"
      ],
      "text/plain": [
       "  code                      city\n",
       "0  ANC                 ANCHORAGE\n",
       "1  BAR  BAKER AAF - BAKER ISLAND\n",
       "2  DAC             DALTONS CACHE\n",
       "3  PIZ    DEW STATION PT LAY DEW\n",
       "4  DTH              DUTCH HARBOR"
      ]
     },
     "execution_count": 56,
     "metadata": {},
     "output_type": "execute_result"
    }
   ],
   "source": [
    "df_city_code = spark.createDataFrame(\n",
    "    list(city_code.items()), schema=[\"code\", \"city\"]\n",
    ")\n",
    "df_city_code.limit(5).toPandas()\n"
   ]
  },
  {
   "cell_type": "code",
   "execution_count": 57,
   "metadata": {
    "editable": true
   },
   "outputs": [
    {
     "name": "stdout",
     "output_type": "stream",
     "text": [
      "root\n",
      " |-- code: string (nullable = true)\n",
      " |-- city: string (nullable = true)\n",
      "\n"
     ]
    }
   ],
   "source": [
    "df_city_code.createOrReplaceTempView(\"city_code\")\n",
    "df_city_code.printSchema()"
   ]
  },
  {
   "cell_type": "code",
   "execution_count": 58,
   "metadata": {
    "editable": true
   },
   "outputs": [
    {
     "name": "stdout",
     "output_type": "stream",
     "text": [
      "+----+--------------------+\n",
      "|code|                city|\n",
      "+----+--------------------+\n",
      "| ANC|           ANCHORAGE|\n",
      "| BAR|BAKER AAF - BAKER...|\n",
      "| DAC|       DALTONS CACHE|\n",
      "| PIZ|DEW STATION PT LA...|\n",
      "| DTH|        DUTCH HARBOR|\n",
      "| EGL|               EAGLE|\n",
      "| FRB|           FAIRBANKS|\n",
      "| HOM|               HOMER|\n",
      "| HYD|               HYDER|\n",
      "| JUN|              JUNEAU|\n",
      "+----+--------------------+\n",
      "\n"
     ]
    }
   ],
   "source": [
    "spark.sql(\"select * from city_code limit 10 \").show()"
   ]
  },
  {
   "cell_type": "code",
   "execution_count": 59,
   "metadata": {
    "editable": true
   },
   "outputs": [],
   "source": [
    "state_code = wrangle.state_code(contents)\n"
   ]
  },
  {
   "cell_type": "code",
   "execution_count": 60,
   "metadata": {
    "editable": true
   },
   "outputs": [
    {
     "data": {
      "text/html": [
       "<div>\n",
       "<style scoped>\n",
       "    .dataframe tbody tr th:only-of-type {\n",
       "        vertical-align: middle;\n",
       "    }\n",
       "\n",
       "    .dataframe tbody tr th {\n",
       "        vertical-align: top;\n",
       "    }\n",
       "\n",
       "    .dataframe thead th {\n",
       "        text-align: right;\n",
       "    }\n",
       "</style>\n",
       "<table border=\"1\" class=\"dataframe\">\n",
       "  <thead>\n",
       "    <tr style=\"text-align: right;\">\n",
       "      <th></th>\n",
       "      <th>code</th>\n",
       "      <th>state</th>\n",
       "    </tr>\n",
       "  </thead>\n",
       "  <tbody>\n",
       "    <tr>\n",
       "      <th>0</th>\n",
       "      <td>AK</td>\n",
       "      <td>ALASKA</td>\n",
       "    </tr>\n",
       "    <tr>\n",
       "      <th>1</th>\n",
       "      <td>AZ</td>\n",
       "      <td>ARIZONA</td>\n",
       "    </tr>\n",
       "    <tr>\n",
       "      <th>2</th>\n",
       "      <td>AR</td>\n",
       "      <td>ARKANSAS</td>\n",
       "    </tr>\n",
       "    <tr>\n",
       "      <th>3</th>\n",
       "      <td>CA</td>\n",
       "      <td>CALIFORNIA</td>\n",
       "    </tr>\n",
       "    <tr>\n",
       "      <th>4</th>\n",
       "      <td>CO</td>\n",
       "      <td>COLORADO</td>\n",
       "    </tr>\n",
       "  </tbody>\n",
       "</table>\n",
       "</div>"
      ],
      "text/plain": [
       "  code       state\n",
       "0   AK      ALASKA\n",
       "1   AZ     ARIZONA\n",
       "2   AR    ARKANSAS\n",
       "3   CA  CALIFORNIA\n",
       "4   CO    COLORADO"
      ]
     },
     "execution_count": 60,
     "metadata": {},
     "output_type": "execute_result"
    }
   ],
   "source": [
    "df_state_code = spark.createDataFrame(\n",
    "    list(state_code.items()), schema=[\"code\", \"state\"]\n",
    ")\n",
    "df_state_code.limit(5).toPandas()\n"
   ]
  },
  {
   "cell_type": "code",
   "execution_count": 61,
   "metadata": {
    "editable": true
   },
   "outputs": [
    {
     "name": "stdout",
     "output_type": "stream",
     "text": [
      "root\n",
      " |-- code: string (nullable = true)\n",
      " |-- state: string (nullable = true)\n",
      "\n"
     ]
    }
   ],
   "source": [
    "df_state_code.createOrReplaceTempView(\"state_code\")\n",
    "df_state_code.printSchema()"
   ]
  },
  {
   "cell_type": "code",
   "execution_count": 62,
   "metadata": {
    "editable": true
   },
   "outputs": [
    {
     "name": "stdout",
     "output_type": "stream",
     "text": [
      "+----+-----------------+\n",
      "|code|            state|\n",
      "+----+-----------------+\n",
      "|  AK|           ALASKA|\n",
      "|  AZ|          ARIZONA|\n",
      "|  AR|         ARKANSAS|\n",
      "|  CA|       CALIFORNIA|\n",
      "|  CO|         COLORADO|\n",
      "|  CT|      CONNECTICUT|\n",
      "|  DE|         DELAWARE|\n",
      "|  DC|DIST. OF COLUMBIA|\n",
      "|  FL|          FLORIDA|\n",
      "|  GA|          GEORGIA|\n",
      "+----+-----------------+\n",
      "\n"
     ]
    }
   ],
   "source": [
    "spark.sql(\"select * from state_code limit 10 \").show()"
   ]
  },
  {
   "cell_type": "markdown",
   "metadata": {
    "editable": true
   },
   "source": [
    "### Step 3: Define the Data Model\n",
    "\n",
    "#### Conceptual Data Model\n",
    "\n",
    "Since the purpose of this data warehouse is Online Analytical Processing (OLAP) and Business intelligence (BI) app usage, we will model these data sets with [star schema](https://en.wikipedia.org/wiki/Star_schema) data modeling.\n",
    "\n",
    "-   Star Schema\n",
    "    ![alt text](images/conceptual_data_model.png)\n"
   ]
  },
  {
   "cell_type": "markdown",
   "metadata": {
    "editable": true
   },
   "source": [
    "#### Data Pipeline Build Up Steps\n",
    "\n",
    "1. Assume all data sets are stored in [Source] or S3 buckets as below\n",
    "    - `[Source]/18-83510-I94-Data-2016/*.sas7bdat`\n",
    "    - `[Source]/I94_SAS_Labels_Descriptions.SAS`\n",
    "    - `[Source]/GlobalLandTemperaturesByCity.csv`\n",
    "    - `[Source]/us-cities-demographics.csv`\n",
    "2. Follow by Step 2 – Cleaning step to clean up data sets (all needed functions are in [wrangle.py](wrangle.py) module)\n",
    "   ![alt](./images/split-datasets.png)\n",
    "3. Transform immigration data to 1 fact table and 2 dimension tables, fact table will be partitioned by state\n",
    "4. Parsing label description file to get 3 auxiliary tables\n",
    "5. Transform global temperature data set to a dimension table\n",
    "6. Split demography data set to 2 dimension tables\n",
    "7. Store these tables back to target S3 bucket\n"
   ]
  },
  {
   "cell_type": "markdown",
   "metadata": {
    "editable": true
   },
   "source": [
    "### Step 4: Run Pipelines to Model the Data\n"
   ]
  },
  {
   "cell_type": "markdown",
   "metadata": {
    "editable": true
   },
   "source": [
    "#### 4.1 Create the data model\n",
    "\n",
    "Data processing and data model was created by Spark.\n",
    "\n",
    "This Notebook [Capstone Project.ipynb](Capstone_Project.ipynb).\n",
    "\n",
    "You can run [etl.py](etl.py) there are 2 functions to start ETL process\n",
    "\n",
    "-   `process_datasets` for AWS S3\n",
    "-   `process_datasets_local`(defualt) for local workspace\n"
   ]
  },
  {
   "cell_type": "markdown",
   "metadata": {
    "editable": true
   },
   "source": [
    "#### 4.2 Data Quality Checks\n",
    "\n",
    "Data quality checks includes\n",
    "\n",
    "1. No empty table after running the ETL data pipeline.\n",
    "2. Data schema for each dimensional table matches data model\n",
    "\n",
    "The model schema is also saved as JSON in [schema.json](schema.json) and in [python module](schema.py) as *StructType* for every table.\n",
    "\n",
    "Data quality notebook: [test.ipynb](test.ipynb).\n"
   ]
  },
  {
   "cell_type": "markdown",
   "metadata": {
    "editable": true
   },
   "source": [
    "Test some queries (The relationship between tables)"
   ]
  },
  {
   "cell_type": "code",
   "execution_count": 63,
   "metadata": {
    "editable": true
   },
   "outputs": [
    {
     "name": "stdout",
     "output_type": "stream",
     "text": [
      "+------------+------------+----------+\n",
      "|        city|foreign_born|population|\n",
      "+------------+------------+----------+\n",
      "|    New York|     3212500|   8550405|\n",
      "| Los Angeles|     1485425|   3971896|\n",
      "|     Chicago|      573463|   2720556|\n",
      "|     Houston|      696210|   2298628|\n",
      "|Philadelphia|      205339|   1567442|\n",
      "|     Phoenix|      300702|   1563001|\n",
      "| San Antonio|      208046|   1469824|\n",
      "|   San Diego|      373842|   1394907|\n",
      "|      Dallas|      326825|   1300082|\n",
      "|    San Jose|      401493|   1026919|\n",
      "+------------+------------+----------+\n",
      "\n"
     ]
    }
   ],
   "source": [
    "query = \"\"\"\n",
    "    select  distinct(city) ,foreign_born ,(male_population+female_population) as population\n",
    "    from dim_demog_population\n",
    "    order by population desc\n",
    "    limit 10\n",
    "\"\"\"\n",
    "spark.sql(query).show()"
   ]
  },
  {
   "cell_type": "code",
   "execution_count": 64,
   "metadata": {
    "editable": true
   },
   "outputs": [
    {
     "name": "stdout",
     "output_type": "stream",
     "text": [
      "+---------+----+\n",
      "|visa_type|visa|\n",
      "+---------+----+\n",
      "|       WT| 443|\n",
      "|       B2| 356|\n",
      "|       WB|  91|\n",
      "|       B1|  61|\n",
      "|      GMT|  27|\n",
      "|       F1|  10|\n",
      "|       CP|   5|\n",
      "|       F2|   3|\n",
      "|       E2|   3|\n",
      "|       M1|   1|\n",
      "+---------+----+\n",
      "\n"
     ]
    }
   ],
   "source": [
    "query = \"\"\"\n",
    "    select visa_type, count(visa) visa\n",
    "    from dim_immigration_airline dia\n",
    "    join fact_immigration fi\n",
    "    on dia.cic_id = fi.cic_id\n",
    "    group by visa_type\n",
    "    order by visa desc\n",
    "    limit 10\n",
    "\"\"\"\n",
    "spark.sql(query).show()"
   ]
  },
  {
   "cell_type": "markdown",
   "metadata": {
    "editable": true
   },
   "source": [
    "we notice that *WT* visa type is the most used one for immigration."
   ]
  },
  {
   "cell_type": "code",
   "execution_count": 65,
   "metadata": {
    "editable": true
   },
   "outputs": [
    {
     "name": "stdout",
     "output_type": "stream",
     "text": [
      "+----+--------------------+\n",
      "|code|                city|\n",
      "+----+--------------------+\n",
      "| ANC|           ANCHORAGE|\n",
      "| BAR|BAKER AAF - BAKER...|\n",
      "| DAC|       DALTONS CACHE|\n",
      "| PIZ|DEW STATION PT LA...|\n",
      "| DTH|        DUTCH HARBOR|\n",
      "| EGL|               EAGLE|\n",
      "| FRB|           FAIRBANKS|\n",
      "| HOM|               HOMER|\n",
      "| HYD|               HYDER|\n",
      "| JUN|              JUNEAU|\n",
      "+----+--------------------+\n",
      "\n"
     ]
    }
   ],
   "source": [
    "query = \"\"\"\n",
    "    select cc.code, cc.city from\n",
    "    city_code cc\n",
    "    limit 10\n",
    "\"\"\"\n",
    "spark.sql(query).show()"
   ]
  },
  {
   "cell_type": "code",
   "execution_count": 66,
   "metadata": {
    "editable": true
   },
   "outputs": [
    {
     "name": "stdout",
     "output_type": "stream",
     "text": [
      "+-------+----+-----+---------+----------+-------------------+-------------------+----+----+-------------+--------------+----+-------+\n",
      "| cic_id|year|month|city_code|state_code|        arrive_date|     departure_date|mode|visa|      country|immigration_id|code|   city|\n",
      "+-------+----+-----+---------+----------+-------------------+-------------------+----+----+-------------+--------------+----+-------+\n",
      "|5433584|2016|    4|      PHO|        WA|1970-01-01 05:42:53|1970-01-01 05:42:57|   1|   2|United States|           961| PHO|PHOENIX|\n",
      "|2546113|2016|    4|      PHO|        IL|1970-01-01 05:42:38|1970-01-01 05:42:47|   1|   2|United States|           909| PHO|PHOENIX|\n",
      "|1215382|2016|    4|      PHO|        CA|1970-01-01 05:42:31|1970-01-01 05:42:49|   1|   1|United States|           892| PHO|PHOENIX|\n",
      "|2928372|2016|    4|      PHO|        NY|1970-01-01 05:42:40|1970-01-01 05:42:45|   1|   1|United States|           841| PHO|PHOENIX|\n",
      "| 813390|2016|    4|      PHO|        NC|1970-01-01 05:42:29|1970-01-01 05:42:31|   1|   1|United States|           761| PHO|PHOENIX|\n",
      "|5827717|2016|    4|      PHO|        CA|1970-01-01 05:42:54|1970-01-01 05:43:01|   1|   2|United States|           691| PHO|PHOENIX|\n",
      "|1349112|2016|    4|      PHO|        NY|1970-01-01 05:42:32|1970-01-01 05:42:48|   1|   2|United States|           681| PHO|PHOENIX|\n",
      "|3640076|2016|    4|      PHO|        FL|1970-01-01 05:42:43|1970-01-01 05:42:49|   1|   2|United States|           628| PHO|PHOENIX|\n",
      "|5827765|2016|    4|      PHO|        OK|1970-01-01 05:42:54|               null|   1|   2|United States|           594| PHO|PHOENIX|\n",
      "| 243257|2016|    4|      PHO|        NY|1970-01-01 05:42:26|1970-01-01 05:42:31|   1|   2|United States|           578| PHO|PHOENIX|\n",
      "+-------+----+-----+---------+----------+-------------------+-------------------+----+----+-------------+--------------+----+-------+\n",
      "\n"
     ]
    }
   ],
   "source": [
    "query = \"\"\"\n",
    "    select *\n",
    "    from fact_immigration fi\n",
    "    join city_code cc\n",
    "    on fi.city_code = cc.code\n",
    "    limit 10\n",
    "\"\"\"\n",
    "spark.sql(query).show()"
   ]
  },
  {
   "cell_type": "code",
   "execution_count": 67,
   "metadata": {
    "editable": true
   },
   "outputs": [
    {
     "name": "stdout",
     "output_type": "stream",
     "text": [
      "+-------------------+--------+--------------------+-------+-------------+----+-----+\n",
      "|                 dt|avg_temp|avg_temp_uncertainty|   city|      country|year|month|\n",
      "+-------------------+--------+--------------------+-------+-------------+----+-----+\n",
      "|2011-08-01 00:00:00|   32.11|               0.201|ABILENE|UNITED STATES|2011|    8|\n",
      "|2011-07-01 00:00:00|  31.954|               0.148|ABILENE|UNITED STATES|2011|    7|\n",
      "|2011-06-01 00:00:00|  31.135|               0.342|ABILENE|UNITED STATES|2011|    6|\n",
      "|1998-07-01 00:00:00|  31.125|               0.148|ABILENE|UNITED STATES|1998|    7|\n",
      "|2001-07-01 00:00:00|  30.964|               0.292|ABILENE|UNITED STATES|2001|    7|\n",
      "|1980-07-01 00:00:00|  30.795|               0.394|ABILENE|UNITED STATES|1980|    7|\n",
      "|1952-08-01 00:00:00|  30.791|               0.396|ABILENE|UNITED STATES|1952|    8|\n",
      "|1943-08-01 00:00:00|  30.321|               0.218|ABILENE|UNITED STATES|1943|    8|\n",
      "|1953-06-01 00:00:00|  30.262|               0.358|ABILENE|UNITED STATES|1953|    6|\n",
      "|1969-07-01 00:00:00|  30.187|               0.207|ABILENE|UNITED STATES|1969|    7|\n",
      "+-------------------+--------+--------------------+-------+-------------+----+-----+\n",
      "\n"
     ]
    }
   ],
   "source": [
    "query = \"\"\"\n",
    "   select * from dim_temperature order by avg_temp desc limit 10 \n",
    "\"\"\"\n",
    "spark.sql(query).show()"
   ]
  },
  {
   "cell_type": "code",
   "execution_count": 68,
   "metadata": {
    "editable": true
   },
   "outputs": [
    {
     "name": "stdout",
     "output_type": "stream",
     "text": [
      "+-------------------+--------+--------------------+-----+-------------+----+-----+----+-----+\n",
      "|                 dt|avg_temp|avg_temp_uncertainty| city|      country|year|month|code| city|\n",
      "+-------------------+--------+--------------------+-----+-------------+----+-----+----+-----+\n",
      "|1918-01-01 00:00:00| -10.192|               0.315|AKRON|UNITED STATES|1918|    1| AKR|AKRON|\n",
      "|1918-01-01 00:00:00| -10.192|               0.315|AKRON|UNITED STATES|1918|    1| CAK|AKRON|\n",
      "|1857-01-01 00:00:00|  -9.802|               1.123|AKRON|UNITED STATES|1857|    1| AKR|AKRON|\n",
      "|1857-01-01 00:00:00|  -9.802|               1.123|AKRON|UNITED STATES|1857|    1| CAK|AKRON|\n",
      "|1912-01-01 00:00:00|  -8.887|               0.662|AKRON|UNITED STATES|1912|    1| AKR|AKRON|\n",
      "|1912-01-01 00:00:00|  -8.887|               0.662|AKRON|UNITED STATES|1912|    1| CAK|AKRON|\n",
      "|1856-01-01 00:00:00|  -8.846|               0.956|AKRON|UNITED STATES|1856|    1| AKR|AKRON|\n",
      "|1856-01-01 00:00:00|  -8.846|               0.956|AKRON|UNITED STATES|1856|    1| CAK|AKRON|\n",
      "|1940-01-01 00:00:00|  -8.792|               0.314|AKRON|UNITED STATES|1940|    1| AKR|AKRON|\n",
      "|1940-01-01 00:00:00|  -8.792|               0.314|AKRON|UNITED STATES|1940|    1| CAK|AKRON|\n",
      "|1934-02-01 00:00:00|  -8.762|               0.332|AKRON|UNITED STATES|1934|    2| CAK|AKRON|\n",
      "|1934-02-01 00:00:00|  -8.762|               0.332|AKRON|UNITED STATES|1934|    2| AKR|AKRON|\n",
      "|1875-02-01 00:00:00|  -8.603|                0.79|AKRON|UNITED STATES|1875|    2| AKR|AKRON|\n",
      "|1875-02-01 00:00:00|  -8.603|                0.79|AKRON|UNITED STATES|1875|    2| CAK|AKRON|\n",
      "|1893-01-01 00:00:00|  -8.443|               0.841|AKRON|UNITED STATES|1893|    1| AKR|AKRON|\n",
      "|1893-01-01 00:00:00|  -8.443|               0.841|AKRON|UNITED STATES|1893|    1| CAK|AKRON|\n",
      "|1885-02-01 00:00:00|  -8.229|               0.765|AKRON|UNITED STATES|1885|    2| CAK|AKRON|\n",
      "|1885-02-01 00:00:00|  -8.229|               0.765|AKRON|UNITED STATES|1885|    2| AKR|AKRON|\n",
      "|1875-01-01 00:00:00|  -7.929|               0.522|AKRON|UNITED STATES|1875|    1| AKR|AKRON|\n",
      "|1875-01-01 00:00:00|  -7.929|               0.522|AKRON|UNITED STATES|1875|    1| CAK|AKRON|\n",
      "+-------------------+--------+--------------------+-----+-------------+----+-----+----+-----+\n",
      "only showing top 20 rows\n",
      "\n"
     ]
    }
   ],
   "source": [
    "query = \"\"\"\n",
    "   select *\n",
    "   from dim_temperature t\n",
    "   join \n",
    "   city_code cc\n",
    "   on t.city = cc.city\n",
    "   order by avg_temp\n",
    "\"\"\"\n",
    "spark.sql(query).show()"
   ]
  },
  {
   "cell_type": "code",
   "execution_count": 69,
   "metadata": {
    "editable": true
   },
   "outputs": [
    {
     "name": "stdout",
     "output_type": "stream",
     "text": [
      "+-------+------------------+\n",
      "|   city|      avarage_temp|\n",
      "+-------+------------------+\n",
      "|ABILENE|16.892499994154758|\n",
      "|  AKRON| 9.460787474547391|\n",
      "+-------+------------------+\n",
      "\n"
     ]
    }
   ],
   "source": [
    "query = \"\"\"\n",
    "   select city, avg(avg_temp) avarage_temp\n",
    "   from dim_temperature\n",
    "   group by city\n",
    "\"\"\"\n",
    "spark.sql(query).show()"
   ]
  },
  {
   "cell_type": "code",
   "execution_count": 70,
   "metadata": {
    "editable": true
   },
   "outputs": [
    {
     "name": "stdout",
     "output_type": "stream",
     "text": [
      "+--------+----+-------+\n",
      "|avg_temp|city|country|\n",
      "+--------+----+-------+\n",
      "+--------+----+-------+\n",
      "\n"
     ]
    }
   ],
   "source": [
    "query = \"\"\"\n",
    "   select t.avg_temp, t.city, fi.country\n",
    "   from dim_temperature t\n",
    "   join \n",
    "   city_code cc\n",
    "   join fact_immigration fi\n",
    "   on t.city = cc.city and cc.code = fi.city_code\n",
    "\"\"\"\n",
    "spark.sql(query).show()"
   ]
  },
  {
   "cell_type": "code",
   "execution_count": 71,
   "metadata": {
    "editable": true
   },
   "outputs": [
    {
     "name": "stdout",
     "output_type": "stream",
     "text": [
      "+----+----+\n",
      "|city|visa|\n",
      "+----+----+\n",
      "+----+----+\n",
      "\n"
     ]
    }
   ],
   "source": [
    "query = \"\"\"\n",
    "   select cc.city, fi.visa\n",
    "   from city_code cc\n",
    "   join fact_immigration fi\n",
    "   on  cc.code = fi.city_code\n",
    "   where fi.city_code='AKR'\n",
    "\"\"\"\n",
    "spark.sql(query).show()"
   ]
  },
  {
   "cell_type": "markdown",
   "metadata": {
    "editable": true
   },
   "source": [
    "#### 4.3 Data dictionary\n",
    "\n",
    "[data_dictionary.ipynb](data_dictionary.ipynb).\n"
   ]
  },
  {
   "cell_type": "markdown",
   "metadata": {
    "editable": true
   },
   "source": [
    "### Step 5: Complete Project Write Up\n",
    "\n",
    "#### Tools and Technologies\n",
    "\n",
    "1. _AWS S3_ for data storage\n",
    "2. _PySpark_ for sample data set exploratory data analysis & large data set data processing to transform staging table to dimensional table\n",
    "\n",
    "#### Data Update Frequency\n",
    "\n",
    "1. Immigration and temperature tables need to be updated every month since the raw data set is built up monthly.\n",
    "2. Tables created from demography data set could be updated every year since demography data collection takes time and high frequent demography might take high cost but generate wrong conclusion.\n",
    "3. All tables need to be updated in an append-only mode.\n",
    "\n",
    "#### Future Design Considerations\n",
    "\n",
    "1. The data was increased by 100x.\n",
    "\n",
    "    In case of Spark with standalone server mode can not process 100x data set, we could consider to put data in\n",
    "\n",
    "    - [AWS EMR](https://aws.amazon.com/emr/)\n",
    "    - [Azure Data Lake Storage Gen2](https://learn.microsoft.com/en-us/azure/storage/blobs/data-lake-storage-introduction)\n",
    "    - [Snowflake](https://www.snowflake.com/en/)\n",
    "\n",
    "    Each one of them is based on the idea of distributed data cluster for processing large data sets on cloud.\n",
    "\n",
    "---\n",
    "\n",
    "2. The data populates a dashboard that must be updated on a daily basis by 7am every day.\n",
    "\n",
    "    [Apache Airflow](https://airflow.apache.org) could be used for building up a ETL data pipeline to regularly update the date and populate a report. Apache Airflow also is integrated with Python and many programming languages very well.\n",
    "\n",
    "---\n",
    "\n",
    "3. The database needed to be accessed by 100+ people.\n",
    "\n",
    "    we could use AWS Redshift, Google Cloud BigQuery or Snowflake\n"
   ]
  }
 ],
 "metadata": {
  "kernelspec": {
   "display_name": "Python 3",
   "language": "python",
   "name": "python3"
  },
  "language_info": {
   "codemirror_mode": {
    "name": "ipython",
    "version": 3
   },
   "file_extension": ".py",
   "mimetype": "text/x-python",
   "name": "python",
   "nbconvert_exporter": "python",
   "pygments_lexer": "ipython3",
   "version": "3.6.3"
  },
  "vscode": {
   "interpreter": {
    "hash": "9e35676d33e03a9093a17dc7760f2b2aa4960ff6d3c0d7dc06348afdc0ca22c8"
   }
  }
 },
 "nbformat": 4,
 "nbformat_minor": 4
}
