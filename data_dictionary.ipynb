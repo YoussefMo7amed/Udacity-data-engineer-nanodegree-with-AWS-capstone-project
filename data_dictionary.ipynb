{
 "cells": [
  {
   "cell_type": "markdown",
   "metadata": {},
   "source": [
    "![alt text](images/split-datasets.png)"
   ]
  },
  {
   "cell_type": "markdown",
   "metadata": {},
   "source": [
    "fact_immigration"
   ]
  },
  {
   "cell_type": "markdown",
   "metadata": {},
   "source": [
    "| fact_immigration | Type      | Description                                |\n",
    "|------------------|-----------|--------------------------------------------|\n",
    "| immigration_id   | INT       | Primary Key                                |\n",
    "| cic_id           | BIGINT    | CIC ID                                     |\n",
    "| year             | INT       | 4 digit year                               |\n",
    "| month            | INT       | Numeric month                              |\n",
    "| city_code        | CHAR(3)   | Three characters abbreviation for USA city |\n",
    "| state_code       | CHAR(2)   | Two characters abbreviation for USA state  |\n",
    "| mode             | INT       | Traffic method                             |\n",
    "| visa             | INT       | Visa category                              |\n",
    "| arrive_date      | TIMESTAMP | Arrive date                                |\n",
    "| departure_date   | TIMESTAMP | Leaving date                               |\n",
    "| country          | CHAR(13)  | United States                              |\n"
   ]
  },
  {
   "cell_type": "markdown",
   "metadata": {},
   "source": [
    "dim_immigration_personal"
   ]
  },
  {
   "cell_type": "markdown",
   "metadata": {},
   "source": [
    "| dim_immigration_personal | Type    | Description                     |\n",
    "|-------------------|---------|---------------------------------|\n",
    "| immi_personal_id  | INT     | Primary Key                     |\n",
    "| cic_id            | BIGINT  | CIC ID                          |\n",
    "| citizen_country   | INT     | Country of citizenship (i94cit) |\n",
    "| residence_country | INT     | Country of residence (i94res)   |\n",
    "| birth_year        | INT     | Birth year                      |\n",
    "| gender            | CHAR(1) | Gender                          |"
   ]
  },
  {
   "cell_type": "markdown",
   "metadata": {},
   "source": [
    "dim_immigration_airline"
   ]
  },
  {
   "cell_type": "markdown",
   "metadata": {},
   "source": [
    "| dim_immigration_airline | Type    | Description                                     |\n",
    "|-------------------------|---------|-------------------------------------------------|\n",
    "| immi_airline_id         | INT     | Primary Key                                     |\n",
    "| cic_id                  | BIGINT  | CIC ID                                          |\n",
    "| airline                 | VARCHAR | Airline used to arrive in U.S.                  |\n",
    "| admin_num               | BIGINT  | Admission Number                                |\n",
    "| flight_number           | VARCHAR | Flight number of Airline used to arrive in U.S. |\n",
    "| visa_type               | CHAR(2) | Class of legal immigration admission            |\n"
   ]
  },
  {
   "cell_type": "markdown",
   "metadata": {},
   "source": [
    "dim_temperature"
   ]
  },
  {
   "cell_type": "markdown",
   "metadata": {},
   "source": [
    "| dim_temperature    | Type      | Description                             |\n",
    "|----------------------|-----------|-----------------------------------------|\n",
    "| dt                   | TIMESTAMP | Record time stamp                       |\n",
    "| city            | VARCHAR   | Record city                             |\n",
    "| country              | VARCHAR   | Record country                          |\n",
    "| avg_temp             | FLOAT     | Monthly average temperature             |\n",
    "| avg_temp_uncertainty | FLOAT     | Monthly average temperature uncertainty |\n",
    "| year                 | INT       | 4 digit year of dt                      |\n",
    "| month                | INT       | Numeric month of dt                     |\n"
   ]
  },
  {
   "cell_type": "markdown",
   "metadata": {},
   "source": [
    "dim_demog_population"
   ]
  },
  {
   "cell_type": "markdown",
   "metadata": {},
   "source": [
    "| dim_demog_population  | Type    | Description                                |\n",
    "|-----------------------|---------|--------------------------------------------|\n",
    "| demog_pop_id          | INT     | Primary Key                                |\n",
    "| city             | CHAR(3) | Three characters abbreviation for USA city |\n",
    "| state            | CHAR(2) | Two characters abbreviation for USA state  |\n",
    "| male_population       | INT     | City male population                       |\n",
    "| famale_population     | INT     | City female population                     |\n",
    "| num_veterans          | INT     | Number of veterans                         |\n",
    "| foreign_born          | INT     | Number of foreign born baby                |\n",
    "| race                  | VARCHAR | Race of majority                           |\n"
   ]
  },
  {
   "cell_type": "markdown",
   "metadata": {},
   "source": [
    "dim_demog_statistics"
   ]
  },
  {
   "cell_type": "markdown",
   "metadata": {},
   "source": [
    "| column             | Type    |\n",
    "|--------------------|---------|\n",
    "| demog_stat_id      | INT     |\n",
    "| city          | CHAR(3) |\n",
    "| state         | CHAR(2) |\n",
    "| median_age         | INT     |\n",
    "| avg_household_size | FLOAT   |\n"
   ]
  },
  {
   "cell_type": "markdown",
   "metadata": {},
   "source": [
    "country_code"
   ]
  },
  {
   "cell_type": "markdown",
   "metadata": {},
   "source": [
    "| country_code | Type    | Description  |\n",
    "|--------------|---------|--------------|\n",
    "| code   | INT     | Country ID   |\n",
    "| country      | VARCHAR | Country name |\n"
   ]
  },
  {
   "cell_type": "markdown",
   "metadata": {},
   "source": [
    "city_code"
   ]
  },
  {
   "cell_type": "markdown",
   "metadata": {},
   "source": [
    "| city_code   | Type    | Description                                |\n",
    "|-------------|---------|--------------------------------------------|\n",
    "| code   | CHAR(3) | Three characters abbreviation for USA city |\n",
    "| city        | VARCHAR | Full name of USA city                      |\n"
   ]
  },
  {
   "cell_type": "markdown",
   "metadata": {},
   "source": [
    "state_code"
   ]
  },
  {
   "cell_type": "markdown",
   "metadata": {},
   "source": [
    "| state_code | Type    | Description                               |\n",
    "|------------|---------|-------------------------------------------|\n",
    "| code | CHAR(2) | Two characters abbreviation for USA state |\n",
    "| state      | VARCHAR |  Full name of USA state                   |\n"
   ]
  },
  {
   "cell_type": "code",
   "execution_count": null,
   "metadata": {},
   "outputs": [],
   "source": []
  }
 ],
 "metadata": {
  "kernelspec": {
   "display_name": "Python 3 (ipykernel)",
   "language": "python",
   "name": "python3"
  },
  "language_info": {
   "codemirror_mode": {
    "name": "ipython",
    "version": 3
   },
   "file_extension": ".py",
   "mimetype": "text/x-python",
   "name": "python",
   "nbconvert_exporter": "python",
   "pygments_lexer": "ipython3",
   "version": "3.10.9"
  }
 },
 "nbformat": 4,
 "nbformat_minor": 4
}
