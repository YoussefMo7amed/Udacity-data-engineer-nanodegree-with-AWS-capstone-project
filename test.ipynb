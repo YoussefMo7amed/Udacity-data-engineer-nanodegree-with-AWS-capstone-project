{
 "cells": [
  {
   "cell_type": "markdown",
   "metadata": {
    "editable": true
   },
   "source": [
    "# 4.2 Data Quality Checks\n",
    "\n",
    "Data quality checks includes\n",
    "\n",
    "1. Data schema of every dimensional table matches data model\n",
    "2. No empty table after running ETL data pipeline\n"
   ]
  },
  {
   "cell_type": "code",
   "execution_count": 1,
   "metadata": {
    "editable": true
   },
   "outputs": [],
   "source": [
    "import os\n",
    "import configparser\n",
    "from pathlib import Path\n",
    "from pyspark.sql import SparkSession\n",
    "from helper import thousands_separator\n",
    "import json\n",
    "import schema\n",
    "import importlib\n"
   ]
  },
  {
   "cell_type": "code",
   "execution_count": 2,
   "metadata": {
    "editable": true
   },
   "outputs": [],
   "source": [
    "config = configparser.ConfigParser()\n",
    "config.read(\"configuration.cfg\", encoding=\"utf-8-sig\")\n",
    "\n",
    "os.environ[\"AWS_ACCESS_KEY_ID\"] = config[\"AWS\"][\"AWS_ACCESS_KEY_ID\"]\n",
    "os.environ[\"AWS_SECRET_ACCESS_KEY\"] = config[\"AWS\"][\"AWS_SECRET_ACCESS_KEY\"]\n",
    "\n",
    "SOURCE = config[\"S3\"][\"SOURCE_S3_BUCKET\"]\n",
    "DESTINATION = config[\"S3\"][\"DEST_S3_BUCKET\"]\n"
   ]
  },
  {
   "cell_type": "code",
   "execution_count": 3,
   "metadata": {
    "editable": true
   },
   "outputs": [],
   "source": [
    "# spark = (\n",
    "#     SparkSession.builder.config(\n",
    "#         \"spark.jars.packages\", \"saurfang:spark-sas7bdat:2.0.0-s_2.11\"\n",
    "#     )\n",
    "#     .enableHiveSupport()\n",
    "#     .getOrCreate()\n",
    "# )\n",
    "\n",
    "spark = (\n",
    "    SparkSession.builder.config(\n",
    "        \"spark.jars.packages\", \"org.apache.hadoop:hadoop-aws:2.7.0\"\n",
    "    )\n",
    "    .enableHiveSupport()\n",
    "    .getOrCreate()\n",
    ")\n"
   ]
  },
  {
   "cell_type": "markdown",
   "metadata": {
    "editable": true
   },
   "source": [
    "### 1. Data schema of every dimensional table matches data model\n"
   ]
  },
  {
   "cell_type": "markdown",
   "metadata": {
    "editable": true
   },
   "source": [
    "Please refer to [data_dictionary.ipynb](data_dictionary.ipynb).\n"
   ]
  },
  {
   "cell_type": "markdown",
   "metadata": {
    "editable": true
   },
   "source": [
    "For local usage use\n"
   ]
  },
  {
   "cell_type": "code",
   "execution_count": 4,
   "metadata": {
    "editable": true
   },
   "outputs": [],
   "source": [
    "bucket = Path(\"output_data\")\n"
   ]
  },
  {
   "cell_type": "markdown",
   "metadata": {
    "editable": true
   },
   "source": [
    "For AWS S3\n"
   ]
  },
  {
   "cell_type": "code",
   "execution_count": 5,
   "metadata": {
    "editable": true
   },
   "outputs": [],
   "source": [
    "# bucket = Path(SOURCE)\n"
   ]
  },
  {
   "cell_type": "code",
   "execution_count": 6,
   "metadata": {
    "editable": true
   },
   "outputs": [
    {
     "name": "stdout",
     "output_type": "stream",
     "text": [
      "Table: city_code\n",
      "root\n",
      " |-- code: string (nullable = true)\n",
      " |-- city: string (nullable = true)\n",
      "\n",
      "Table: dim_immigration_airline\n",
      "root\n",
      " |-- cic_id: long (nullable = true)\n",
      " |-- airline: string (nullable = true)\n",
      " |-- admin_num: long (nullable = true)\n",
      " |-- flight_number: string (nullable = true)\n",
      " |-- visa_type: string (nullable = true)\n",
      " |-- immi_airline_id: integer (nullable = true)\n",
      "\n",
      "Table: dim_demog_statistics\n",
      "root\n",
      " |-- city: string (nullable = true)\n",
      " |-- state: string (nullable = true)\n",
      " |-- median_age: integer (nullable = true)\n",
      " |-- avg_household_size: float (nullable = true)\n",
      " |-- demog_stat_id: integer (nullable = true)\n",
      "\n",
      "Table: fact_immigration\n",
      "root\n",
      " |-- cic_id: long (nullable = true)\n",
      " |-- year: integer (nullable = true)\n",
      " |-- month: integer (nullable = true)\n",
      " |-- city_code: string (nullable = true)\n",
      " |-- arrive_date: date (nullable = true)\n",
      " |-- departure_date: date (nullable = true)\n",
      " |-- mode: integer (nullable = true)\n",
      " |-- visa: integer (nullable = true)\n",
      " |-- immigration_id: integer (nullable = true)\n",
      " |-- country: string (nullable = true)\n",
      " |-- state_code: string (nullable = true)\n",
      "\n",
      "Table: dim_demog_population\n",
      "root\n",
      " |-- city: string (nullable = true)\n",
      " |-- state: string (nullable = true)\n",
      " |-- male_population: integer (nullable = true)\n",
      " |-- female_population: integer (nullable = true)\n",
      " |-- num_veterans: integer (nullable = true)\n",
      " |-- foreign_born: integer (nullable = true)\n",
      " |-- race: string (nullable = true)\n",
      " |-- demog_pop_id: integer (nullable = true)\n",
      "\n",
      "Table: country_code\n",
      "root\n",
      " |-- code: string (nullable = true)\n",
      " |-- country: string (nullable = true)\n",
      "\n",
      "Table: state_code\n",
      "root\n",
      " |-- code: string (nullable = true)\n",
      " |-- state: string (nullable = true)\n",
      "\n",
      "Table: dim_immigration_personal\n",
      "root\n",
      " |-- cic_id: long (nullable = true)\n",
      " |-- citizen_country: integer (nullable = true)\n",
      " |-- residence_country: integer (nullable = true)\n",
      " |-- birth_year: integer (nullable = true)\n",
      " |-- gender: string (nullable = true)\n",
      " |-- immi_personal_id: integer (nullable = true)\n",
      "\n",
      "Table: dim_temperature\n",
      "root\n",
      " |-- dt: date (nullable = true)\n",
      " |-- avg_temp: float (nullable = true)\n",
      " |-- avg_temp_uncertainty: float (nullable = true)\n",
      " |-- city: string (nullable = true)\n",
      " |-- country: string (nullable = true)\n",
      " |-- year: integer (nullable = true)\n",
      " |-- month: integer (nullable = true)\n",
      "\n"
     ]
    }
   ],
   "source": [
    "for file_directory in bucket.iterdir():\n",
    "    if file_directory.is_dir():\n",
    "        path = str(file_directory)\n",
    "        df = spark.read.parquet(path)\n",
    "        print(\"Table: \" + path.split(\"/\")[-1])\n",
    "        df.printSchema()\n"
   ]
  },
  {
   "cell_type": "code",
   "execution_count": 7,
   "metadata": {
    "editable": true
   },
   "outputs": [],
   "source": [
    "tables = []\n"
   ]
  },
  {
   "cell_type": "code",
   "execution_count": 8,
   "metadata": {
    "editable": true
   },
   "outputs": [],
   "source": [
    "for file_directory in bucket.iterdir():\n",
    "    if file_directory.is_dir():\n",
    "        path = str(file_directory)\n",
    "        table = path.split(\"/\")[-1]\n",
    "        tables.append(table)\n"
   ]
  },
  {
   "cell_type": "code",
   "execution_count": 9,
   "metadata": {
    "editable": true
   },
   "outputs": [
    {
     "data": {
      "text/plain": [
       "['city_code',\n",
       " 'dim_immigration_airline',\n",
       " 'dim_demog_statistics',\n",
       " 'fact_immigration',\n",
       " 'dim_demog_population',\n",
       " 'country_code',\n",
       " 'state_code',\n",
       " 'dim_immigration_personal',\n",
       " 'dim_temperature']"
      ]
     },
     "execution_count": 9,
     "metadata": {},
     "output_type": "execute_result"
    }
   ],
   "source": [
    "tables\n"
   ]
  },
  {
   "cell_type": "code",
   "execution_count": 10,
   "metadata": {
    "editable": true
   },
   "outputs": [],
   "source": [
    "city_code = spark.read.parquet(f\"{bucket}/city_code\")\n",
    "dim_immigration_airline = spark.read.parquet(f\"{bucket}/dim_immigration_airline\")\n",
    "dim_demog_statistics = spark.read.parquet(f\"{bucket}/dim_demog_statistics\")\n",
    "dim_demog_population = spark.read.parquet(f\"{bucket}/dim_demog_population\")\n",
    "country_code = spark.read.parquet(f\"{bucket}/country_code\")\n",
    "state_code = spark.read.parquet(f\"{bucket}/state_code\")\n",
    "dim_immigration_personal = spark.read.parquet(f\"{bucket}/dim_immigration_personal\")\n",
    "dim_temperature = spark.read.parquet(f\"{bucket}/dim_temperature\")\n",
    "fact_immigration = spark.read.parquet(f\"{bucket}/fact_immigration\")\n"
   ]
  },
  {
   "cell_type": "code",
   "execution_count": 11,
   "metadata": {
    "editable": true
   },
   "outputs": [
    {
     "data": {
      "text/plain": [
       "<module 'schema' from '/home/workspace/schema.py'>"
      ]
     },
     "execution_count": 11,
     "metadata": {},
     "output_type": "execute_result"
    }
   ],
   "source": [
    "importlib.reload(schema)\n"
   ]
  },
  {
   "cell_type": "code",
   "execution_count": 12,
   "metadata": {
    "editable": true
   },
   "outputs": [],
   "source": [
    "check_schema = [\n",
    "    city_code.schema == schema.city_code,\n",
    "    dim_immigration_airline.schema == schema.dim_immigration_airline,\n",
    "    dim_demog_statistics.schema == schema.dim_demog_statistics,\n",
    "    dim_demog_population.schema == schema.dim_demog_population,\n",
    "    country_code.schema == schema.country_code,\n",
    "    state_code.schema == schema.state_code,\n",
    "    dim_immigration_personal.schema == schema.dim_immigration_personal,\n",
    "    dim_temperature.schema == schema.dim_temperature,\n",
    "    fact_immigration.schema == schema.fact_immigration,\n",
    "]\n"
   ]
  },
  {
   "cell_type": "code",
   "execution_count": 13,
   "metadata": {
    "editable": true
   },
   "outputs": [],
   "source": [
    "failures = []\n",
    "\n",
    "\n",
    "def test_schema():\n",
    "    for value, table in zip(check_schema, tables):\n",
    "        print(f\"table\\t{table}:\\t{value}\")\n",
    "        if value == False:\n",
    "            failures.append(table)\n",
    "    assert failures == []\n",
    "    print(\"Data schema of every table matches data model\")\n"
   ]
  },
  {
   "cell_type": "code",
   "execution_count": 14,
   "metadata": {
    "editable": true
   },
   "outputs": [
    {
     "name": "stdout",
     "output_type": "stream",
     "text": [
      "table\tcity_code:\tTrue\n",
      "table\tdim_immigration_airline:\tTrue\n",
      "table\tdim_demog_statistics:\tTrue\n",
      "table\tfact_immigration:\tTrue\n",
      "table\tdim_demog_population:\tTrue\n",
      "table\tcountry_code:\tTrue\n",
      "table\tstate_code:\tTrue\n",
      "table\tdim_immigration_personal:\tTrue\n",
      "table\tdim_temperature:\tTrue\n",
      "Data schema of every table matches data model\n"
     ]
    }
   ],
   "source": [
    "test_schema()\n"
   ]
  },
  {
   "cell_type": "markdown",
   "metadata": {
    "editable": true
   },
   "source": [
    "### 2. No empty table after running ETL data pipeline\n"
   ]
  },
  {
   "cell_type": "code",
   "execution_count": 15,
   "metadata": {
    "editable": true
   },
   "outputs": [
    {
     "name": "stdout",
     "output_type": "stream",
     "text": [
      "Table: city_code is not empty: total 659 records.\n",
      "Table: dim_immigration_airline is not empty: total 3,096,313 records.\n",
      "Table: dim_demog_statistics is not empty: total 588 records.\n",
      "Table: fact_immigration is not empty: total 3,096,313 records.\n",
      "Table: dim_demog_population is not empty: total 2,875 records.\n",
      "Table: country_code is not empty: total 288 records.\n",
      "Table: state_code is not empty: total 54 records.\n",
      "Table: dim_immigration_personal is not empty: total 3,096,313 records.\n",
      "Table: dim_temperature is not empty: total 639,649 records.\n"
     ]
    }
   ],
   "source": [
    "for file_directory in bucket.iterdir():\n",
    "    if file_directory.is_dir():\n",
    "        path = str(file_directory)\n",
    "        df = spark.read.parquet(path)\n",
    "        record_num = df.count()\n",
    "        if record_num <= 0:\n",
    "            raise ValueError(\"This table is empty!\")\n",
    "        else:\n",
    "            print(\n",
    "                \"Table: \"\n",
    "                + path.split(\"/\")[-1]\n",
    "                + f\" is not empty: total {thousands_separator(record_num)} records.\"\n",
    "            )\n"
   ]
  },
  {
   "cell_type": "code",
   "execution_count": 16,
   "metadata": {
    "editable": true
   },
   "outputs": [
    {
     "data": {
      "text/plain": [
       "[True, True, True, True, True, True, True, True, True]"
      ]
     },
     "execution_count": 16,
     "metadata": {},
     "output_type": "execute_result"
    }
   ],
   "source": [
    "check_schema\n"
   ]
  },
  {
   "cell_type": "code",
   "execution_count": 17,
   "metadata": {
    "editable": true
   },
   "outputs": [
    {
     "data": {
      "text/plain": [
       "[]"
      ]
     },
     "execution_count": 17,
     "metadata": {},
     "output_type": "execute_result"
    }
   ],
   "source": [
    "failures\n"
   ]
  },
  {
   "cell_type": "code",
   "execution_count": null,
   "metadata": {
    "editable": true
   },
   "outputs": [],
   "source": []
  }
 ],
 "metadata": {
  "kernelspec": {
   "display_name": "Python 3",
   "language": "python",
   "name": "python3"
  },
  "language_info": {
   "codemirror_mode": {
    "name": "ipython",
    "version": 3
   },
   "file_extension": ".py",
   "mimetype": "text/x-python",
   "name": "python",
   "nbconvert_exporter": "python",
   "pygments_lexer": "ipython3",
   "version": "3.6.3"
  }
 },
 "nbformat": 4,
 "nbformat_minor": 4
}
